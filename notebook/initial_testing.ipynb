{
 "cells": [
  {
   "cell_type": "code",
   "execution_count": 1,
   "metadata": {},
   "outputs": [],
   "source": [
    "import gridmet_cfsv2 as gm\n",
    "import grd2shp\n",
    "import xarray as xr\n",
    "import numpy as np\n",
    "import geopandas as gpd\n"
   ]
  },
  {
   "cell_type": "code",
   "execution_count": 2,
   "metadata": {},
   "outputs": [
    {
     "output_type": "stream",
     "name": "stdout",
     "text": [
      "['http://thredds.northwestknowledge.net:8080/thredds/dodsC/NWCSC_INTEGRATED_SCENARIOS_ALL_CLIMATE/cfsv2_metdata_90day/cfsv2_metdata_forecast_tmmn_daily_00_1_2.nc#fillmismatch', 'http://thredds.northwestknowledge.net:8080/thredds/dodsC/NWCSC_INTEGRATED_SCENARIOS_ALL_CLIMATE/cfsv2_metdata_90day/cfsv2_metdata_forecast_tmmn_daily_00_2_2.nc#fillmismatch', 'http://thredds.northwestknowledge.net:8080/thredds/dodsC/NWCSC_INTEGRATED_SCENARIOS_ALL_CLIMATE/cfsv2_metdata_90day/cfsv2_metdata_forecast_tmmn_daily_00_3_2.nc#fillmismatch', 'http://thredds.northwestknowledge.net:8080/thredds/dodsC/NWCSC_INTEGRATED_SCENARIOS_ALL_CLIMATE/cfsv2_metdata_90day/cfsv2_metdata_forecast_tmmn_daily_00_4_2.nc#fillmismatch', 'http://thredds.northwestknowledge.net:8080/thredds/dodsC/NWCSC_INTEGRATED_SCENARIOS_ALL_CLIMATE/cfsv2_metdata_90day/cfsv2_metdata_forecast_tmmn_daily_06_1_2.nc#fillmismatch', 'http://thredds.northwestknowledge.net:8080/thredds/dodsC/NWCSC_INTEGRATED_SCENARIOS_ALL_CLIMATE/cfsv2_metdata_90day/cfsv2_metdata_forecast_tmmn_daily_06_2_2.nc#fillmismatch', 'http://thredds.northwestknowledge.net:8080/thredds/dodsC/NWCSC_INTEGRATED_SCENARIOS_ALL_CLIMATE/cfsv2_metdata_90day/cfsv2_metdata_forecast_tmmn_daily_06_3_2.nc#fillmismatch', 'http://thredds.northwestknowledge.net:8080/thredds/dodsC/NWCSC_INTEGRATED_SCENARIOS_ALL_CLIMATE/cfsv2_metdata_90day/cfsv2_metdata_forecast_tmmn_daily_06_4_2.nc#fillmismatch', 'http://thredds.northwestknowledge.net:8080/thredds/dodsC/NWCSC_INTEGRATED_SCENARIOS_ALL_CLIMATE/cfsv2_metdata_90day/cfsv2_metdata_forecast_tmmn_daily_12_1_2.nc#fillmismatch', 'http://thredds.northwestknowledge.net:8080/thredds/dodsC/NWCSC_INTEGRATED_SCENARIOS_ALL_CLIMATE/cfsv2_metdata_90day/cfsv2_metdata_forecast_tmmn_daily_12_2_2.nc#fillmismatch', 'http://thredds.northwestknowledge.net:8080/thredds/dodsC/NWCSC_INTEGRATED_SCENARIOS_ALL_CLIMATE/cfsv2_metdata_90day/cfsv2_metdata_forecast_tmmn_daily_12_3_2.nc#fillmismatch', 'http://thredds.northwestknowledge.net:8080/thredds/dodsC/NWCSC_INTEGRATED_SCENARIOS_ALL_CLIMATE/cfsv2_metdata_90day/cfsv2_metdata_forecast_tmmn_daily_12_4_2.nc#fillmismatch', 'http://thredds.northwestknowledge.net:8080/thredds/dodsC/NWCSC_INTEGRATED_SCENARIOS_ALL_CLIMATE/cfsv2_metdata_90day/cfsv2_metdata_forecast_tmmn_daily_18_1_2.nc#fillmismatch', 'http://thredds.northwestknowledge.net:8080/thredds/dodsC/NWCSC_INTEGRATED_SCENARIOS_ALL_CLIMATE/cfsv2_metdata_90day/cfsv2_metdata_forecast_tmmn_daily_18_2_2.nc#fillmismatch', 'http://thredds.northwestknowledge.net:8080/thredds/dodsC/NWCSC_INTEGRATED_SCENARIOS_ALL_CLIMATE/cfsv2_metdata_90day/cfsv2_metdata_forecast_tmmn_daily_18_3_2.nc#fillmismatch', 'http://thredds.northwestknowledge.net:8080/thredds/dodsC/NWCSC_INTEGRATED_SCENARIOS_ALL_CLIMATE/cfsv2_metdata_90day/cfsv2_metdata_forecast_tmmn_daily_18_4_2.nc#fillmismatch']\n",
      "['http://thredds.northwestknowledge.net:8080/thredds/dodsC/NWCSC_INTEGRATED_SCENARIOS_ALL_CLIMATE/cfsv2_metdata_90day/cfsv2_metdata_forecast_tmmx_daily_00_1_2.nc#fillmismatch', 'http://thredds.northwestknowledge.net:8080/thredds/dodsC/NWCSC_INTEGRATED_SCENARIOS_ALL_CLIMATE/cfsv2_metdata_90day/cfsv2_metdata_forecast_tmmx_daily_00_2_2.nc#fillmismatch', 'http://thredds.northwestknowledge.net:8080/thredds/dodsC/NWCSC_INTEGRATED_SCENARIOS_ALL_CLIMATE/cfsv2_metdata_90day/cfsv2_metdata_forecast_tmmx_daily_00_3_2.nc#fillmismatch', 'http://thredds.northwestknowledge.net:8080/thredds/dodsC/NWCSC_INTEGRATED_SCENARIOS_ALL_CLIMATE/cfsv2_metdata_90day/cfsv2_metdata_forecast_tmmx_daily_00_4_2.nc#fillmismatch', 'http://thredds.northwestknowledge.net:8080/thredds/dodsC/NWCSC_INTEGRATED_SCENARIOS_ALL_CLIMATE/cfsv2_metdata_90day/cfsv2_metdata_forecast_tmmx_daily_06_1_2.nc#fillmismatch', 'http://thredds.northwestknowledge.net:8080/thredds/dodsC/NWCSC_INTEGRATED_SCENARIOS_ALL_CLIMATE/cfsv2_metdata_90day/cfsv2_metdata_forecast_tmmx_daily_06_2_2.nc#fillmismatch', 'http://thredds.northwestknowledge.net:8080/thredds/dodsC/NWCSC_INTEGRATED_SCENARIOS_ALL_CLIMATE/cfsv2_metdata_90day/cfsv2_metdata_forecast_tmmx_daily_06_3_2.nc#fillmismatch', 'http://thredds.northwestknowledge.net:8080/thredds/dodsC/NWCSC_INTEGRATED_SCENARIOS_ALL_CLIMATE/cfsv2_metdata_90day/cfsv2_metdata_forecast_tmmx_daily_06_4_2.nc#fillmismatch', 'http://thredds.northwestknowledge.net:8080/thredds/dodsC/NWCSC_INTEGRATED_SCENARIOS_ALL_CLIMATE/cfsv2_metdata_90day/cfsv2_metdata_forecast_tmmx_daily_12_1_2.nc#fillmismatch', 'http://thredds.northwestknowledge.net:8080/thredds/dodsC/NWCSC_INTEGRATED_SCENARIOS_ALL_CLIMATE/cfsv2_metdata_90day/cfsv2_metdata_forecast_tmmx_daily_12_2_2.nc#fillmismatch', 'http://thredds.northwestknowledge.net:8080/thredds/dodsC/NWCSC_INTEGRATED_SCENARIOS_ALL_CLIMATE/cfsv2_metdata_90day/cfsv2_metdata_forecast_tmmx_daily_12_3_2.nc#fillmismatch', 'http://thredds.northwestknowledge.net:8080/thredds/dodsC/NWCSC_INTEGRATED_SCENARIOS_ALL_CLIMATE/cfsv2_metdata_90day/cfsv2_metdata_forecast_tmmx_daily_12_4_2.nc#fillmismatch', 'http://thredds.northwestknowledge.net:8080/thredds/dodsC/NWCSC_INTEGRATED_SCENARIOS_ALL_CLIMATE/cfsv2_metdata_90day/cfsv2_metdata_forecast_tmmx_daily_18_1_2.nc#fillmismatch', 'http://thredds.northwestknowledge.net:8080/thredds/dodsC/NWCSC_INTEGRATED_SCENARIOS_ALL_CLIMATE/cfsv2_metdata_90day/cfsv2_metdata_forecast_tmmx_daily_18_2_2.nc#fillmismatch', 'http://thredds.northwestknowledge.net:8080/thredds/dodsC/NWCSC_INTEGRATED_SCENARIOS_ALL_CLIMATE/cfsv2_metdata_90day/cfsv2_metdata_forecast_tmmx_daily_18_3_2.nc#fillmismatch', 'http://thredds.northwestknowledge.net:8080/thredds/dodsC/NWCSC_INTEGRATED_SCENARIOS_ALL_CLIMATE/cfsv2_metdata_90day/cfsv2_metdata_forecast_tmmx_daily_18_4_2.nc#fillmismatch']\n"
     ]
    }
   ],
   "source": [
    "m = gm.Gridmet(type=2)\n",
    "ds0 = m.tmin\n",
    "ds1 = m.tmax\n",
    "# print(ds.head())"
   ]
  },
  {
   "cell_type": "code",
   "execution_count": 3,
   "metadata": {},
   "outputs": [
    {
     "output_type": "execute_result",
     "data": {
      "text/plain": [
       "<xarray.Dataset>\n",
       "Dimensions:          (crs: 1, day: 30, lat: 585, lon: 1386, time: 16)\n",
       "Coordinates:\n",
       "  * lat              (lat) float64 49.4 49.36 49.32 49.28 ... 25.15 25.11 25.07\n",
       "  * day              (day) datetime64[ns] 2021-04-28 2021-04-29 ... 2021-05-27\n",
       "  * crs              (crs) int16 3\n",
       "  * lon              (lon) float64 -124.8 -124.7 -124.7 ... -67.14 -67.1 -67.06\n",
       "Dimensions without coordinates: time\n",
       "Data variables:\n",
       "    air_temperature  (time, day, lat, lon) float32 dask.array<chunksize=(1, 30, 585, 1386), meta=np.ndarray>\n",
       "Attributes:\n",
       "    geospatial_bounds_crs:      EPSG:4326\n",
       "    Conventions:                CF-1.6\n",
       "    geospatial_bounds:          POLYGON((-124.7666666333333 49.40000000000000...\n",
       "    geospatial_lat_min:         25.066666666666666\n",
       "    geospatial_lat_max:         49.40000000000000\n",
       "    geospatial_lon_min:         -124.7666666333333\n",
       "    geospatial_lon_max:         -67.058333300000015\n",
       "    geospatial_lon_resolution:  0.041666666666666\n",
       "    geospatial_lat_resolution:  0.041666666666666\n",
       "    geospatial_lat_units:       decimal_degrees north\n",
       "    geospatial_lon_units:       decimal_degrees east\n",
       "    coordinate_system:          EPSG:4326\n",
       "    author:                     John Abatzoglou - University of Idaho, jabatz...\n",
       "    date:                       27 April 2021\n",
       "    note1:                      The projection information for this file is: ...\n",
       "    note2:                      Citation: Abatzoglou, J.T., 2013, Development...\n",
       "    last_permanent_slice:       0\n",
       "    last_early_slice:           30\n",
       "    last_provisional_slice:     24\n",
       "    note3:                      Data in slices after last_permanent_slice (1-...\n",
       "    note4:                      Data in slices after last_provisional_slice (...\n",
       "    note5:                      Days correspond approximately to calendar day..."
      ],
      "text/html": "<div><svg style=\"position: absolute; width: 0; height: 0; overflow: hidden\">\n<defs>\n<symbol id=\"icon-database\" viewBox=\"0 0 32 32\">\n<path d=\"M16 0c-8.837 0-16 2.239-16 5v4c0 2.761 7.163 5 16 5s16-2.239 16-5v-4c0-2.761-7.163-5-16-5z\"></path>\n<path d=\"M16 17c-8.837 0-16-2.239-16-5v6c0 2.761 7.163 5 16 5s16-2.239 16-5v-6c0 2.761-7.163 5-16 5z\"></path>\n<path d=\"M16 26c-8.837 0-16-2.239-16-5v6c0 2.761 7.163 5 16 5s16-2.239 16-5v-6c0 2.761-7.163 5-16 5z\"></path>\n</symbol>\n<symbol id=\"icon-file-text2\" viewBox=\"0 0 32 32\">\n<path d=\"M28.681 7.159c-0.694-0.947-1.662-2.053-2.724-3.116s-2.169-2.030-3.116-2.724c-1.612-1.182-2.393-1.319-2.841-1.319h-15.5c-1.378 0-2.5 1.121-2.5 2.5v27c0 1.378 1.122 2.5 2.5 2.5h23c1.378 0 2.5-1.122 2.5-2.5v-19.5c0-0.448-0.137-1.23-1.319-2.841zM24.543 5.457c0.959 0.959 1.712 1.825 2.268 2.543h-4.811v-4.811c0.718 0.556 1.584 1.309 2.543 2.268zM28 29.5c0 0.271-0.229 0.5-0.5 0.5h-23c-0.271 0-0.5-0.229-0.5-0.5v-27c0-0.271 0.229-0.5 0.5-0.5 0 0 15.499-0 15.5 0v7c0 0.552 0.448 1 1 1h7v19.5z\"></path>\n<path d=\"M23 26h-14c-0.552 0-1-0.448-1-1s0.448-1 1-1h14c0.552 0 1 0.448 1 1s-0.448 1-1 1z\"></path>\n<path d=\"M23 22h-14c-0.552 0-1-0.448-1-1s0.448-1 1-1h14c0.552 0 1 0.448 1 1s-0.448 1-1 1z\"></path>\n<path d=\"M23 18h-14c-0.552 0-1-0.448-1-1s0.448-1 1-1h14c0.552 0 1 0.448 1 1s-0.448 1-1 1z\"></path>\n</symbol>\n</defs>\n</svg>\n<style>/* CSS stylesheet for displaying xarray objects in jupyterlab.\n *\n */\n\n:root {\n  --xr-font-color0: var(--jp-content-font-color0, rgba(0, 0, 0, 1));\n  --xr-font-color2: var(--jp-content-font-color2, rgba(0, 0, 0, 0.54));\n  --xr-font-color3: var(--jp-content-font-color3, rgba(0, 0, 0, 0.38));\n  --xr-border-color: var(--jp-border-color2, #e0e0e0);\n  --xr-disabled-color: var(--jp-layout-color3, #bdbdbd);\n  --xr-background-color: var(--jp-layout-color0, white);\n  --xr-background-color-row-even: var(--jp-layout-color1, white);\n  --xr-background-color-row-odd: var(--jp-layout-color2, #eeeeee);\n}\n\nhtml[theme=dark],\nbody.vscode-dark {\n  --xr-font-color0: rgba(255, 255, 255, 1);\n  --xr-font-color2: rgba(255, 255, 255, 0.54);\n  --xr-font-color3: rgba(255, 255, 255, 0.38);\n  --xr-border-color: #1F1F1F;\n  --xr-disabled-color: #515151;\n  --xr-background-color: #111111;\n  --xr-background-color-row-even: #111111;\n  --xr-background-color-row-odd: #313131;\n}\n\n.xr-wrap {\n  display: block;\n  min-width: 300px;\n  max-width: 700px;\n}\n\n.xr-text-repr-fallback {\n  /* fallback to plain text repr when CSS is not injected (untrusted notebook) */\n  display: none;\n}\n\n.xr-header {\n  padding-top: 6px;\n  padding-bottom: 6px;\n  margin-bottom: 4px;\n  border-bottom: solid 1px var(--xr-border-color);\n}\n\n.xr-header > div,\n.xr-header > ul {\n  display: inline;\n  margin-top: 0;\n  margin-bottom: 0;\n}\n\n.xr-obj-type,\n.xr-array-name {\n  margin-left: 2px;\n  margin-right: 10px;\n}\n\n.xr-obj-type {\n  color: var(--xr-font-color2);\n}\n\n.xr-sections {\n  padding-left: 0 !important;\n  display: grid;\n  grid-template-columns: 150px auto auto 1fr 20px 20px;\n}\n\n.xr-section-item {\n  display: contents;\n}\n\n.xr-section-item input {\n  display: none;\n}\n\n.xr-section-item input + label {\n  color: var(--xr-disabled-color);\n}\n\n.xr-section-item input:enabled + label {\n  cursor: pointer;\n  color: var(--xr-font-color2);\n}\n\n.xr-section-item input:enabled + label:hover {\n  color: var(--xr-font-color0);\n}\n\n.xr-section-summary {\n  grid-column: 1;\n  color: var(--xr-font-color2);\n  font-weight: 500;\n}\n\n.xr-section-summary > span {\n  display: inline-block;\n  padding-left: 0.5em;\n}\n\n.xr-section-summary-in:disabled + label {\n  color: var(--xr-font-color2);\n}\n\n.xr-section-summary-in + label:before {\n  display: inline-block;\n  content: '►';\n  font-size: 11px;\n  width: 15px;\n  text-align: center;\n}\n\n.xr-section-summary-in:disabled + label:before {\n  color: var(--xr-disabled-color);\n}\n\n.xr-section-summary-in:checked + label:before {\n  content: '▼';\n}\n\n.xr-section-summary-in:checked + label > span {\n  display: none;\n}\n\n.xr-section-summary,\n.xr-section-inline-details {\n  padding-top: 4px;\n  padding-bottom: 4px;\n}\n\n.xr-section-inline-details {\n  grid-column: 2 / -1;\n}\n\n.xr-section-details {\n  display: none;\n  grid-column: 1 / -1;\n  margin-bottom: 5px;\n}\n\n.xr-section-summary-in:checked ~ .xr-section-details {\n  display: contents;\n}\n\n.xr-array-wrap {\n  grid-column: 1 / -1;\n  display: grid;\n  grid-template-columns: 20px auto;\n}\n\n.xr-array-wrap > label {\n  grid-column: 1;\n  vertical-align: top;\n}\n\n.xr-preview {\n  color: var(--xr-font-color3);\n}\n\n.xr-array-preview,\n.xr-array-data {\n  padding: 0 5px !important;\n  grid-column: 2;\n}\n\n.xr-array-data,\n.xr-array-in:checked ~ .xr-array-preview {\n  display: none;\n}\n\n.xr-array-in:checked ~ .xr-array-data,\n.xr-array-preview {\n  display: inline-block;\n}\n\n.xr-dim-list {\n  display: inline-block !important;\n  list-style: none;\n  padding: 0 !important;\n  margin: 0;\n}\n\n.xr-dim-list li {\n  display: inline-block;\n  padding: 0;\n  margin: 0;\n}\n\n.xr-dim-list:before {\n  content: '(';\n}\n\n.xr-dim-list:after {\n  content: ')';\n}\n\n.xr-dim-list li:not(:last-child):after {\n  content: ',';\n  padding-right: 5px;\n}\n\n.xr-has-index {\n  font-weight: bold;\n}\n\n.xr-var-list,\n.xr-var-item {\n  display: contents;\n}\n\n.xr-var-item > div,\n.xr-var-item label,\n.xr-var-item > .xr-var-name span {\n  background-color: var(--xr-background-color-row-even);\n  margin-bottom: 0;\n}\n\n.xr-var-item > .xr-var-name:hover span {\n  padding-right: 5px;\n}\n\n.xr-var-list > li:nth-child(odd) > div,\n.xr-var-list > li:nth-child(odd) > label,\n.xr-var-list > li:nth-child(odd) > .xr-var-name span {\n  background-color: var(--xr-background-color-row-odd);\n}\n\n.xr-var-name {\n  grid-column: 1;\n}\n\n.xr-var-dims {\n  grid-column: 2;\n}\n\n.xr-var-dtype {\n  grid-column: 3;\n  text-align: right;\n  color: var(--xr-font-color2);\n}\n\n.xr-var-preview {\n  grid-column: 4;\n}\n\n.xr-var-name,\n.xr-var-dims,\n.xr-var-dtype,\n.xr-preview,\n.xr-attrs dt {\n  white-space: nowrap;\n  overflow: hidden;\n  text-overflow: ellipsis;\n  padding-right: 10px;\n}\n\n.xr-var-name:hover,\n.xr-var-dims:hover,\n.xr-var-dtype:hover,\n.xr-attrs dt:hover {\n  overflow: visible;\n  width: auto;\n  z-index: 1;\n}\n\n.xr-var-attrs,\n.xr-var-data {\n  display: none;\n  background-color: var(--xr-background-color) !important;\n  padding-bottom: 5px !important;\n}\n\n.xr-var-attrs-in:checked ~ .xr-var-attrs,\n.xr-var-data-in:checked ~ .xr-var-data {\n  display: block;\n}\n\n.xr-var-data > table {\n  float: right;\n}\n\n.xr-var-name span,\n.xr-var-data,\n.xr-attrs {\n  padding-left: 25px !important;\n}\n\n.xr-attrs,\n.xr-var-attrs,\n.xr-var-data {\n  grid-column: 1 / -1;\n}\n\ndl.xr-attrs {\n  padding: 0;\n  margin: 0;\n  display: grid;\n  grid-template-columns: 125px auto;\n}\n\n.xr-attrs dt,\n.xr-attrs dd {\n  padding: 0;\n  margin: 0;\n  float: left;\n  padding-right: 10px;\n  width: auto;\n}\n\n.xr-attrs dt {\n  font-weight: normal;\n  grid-column: 1;\n}\n\n.xr-attrs dt:hover span {\n  display: inline-block;\n  background: var(--xr-background-color);\n  padding-right: 10px;\n}\n\n.xr-attrs dd {\n  grid-column: 2;\n  white-space: pre-wrap;\n  word-break: break-all;\n}\n\n.xr-icon-database,\n.xr-icon-file-text2 {\n  display: inline-block;\n  vertical-align: middle;\n  width: 1em;\n  height: 1.5em !important;\n  stroke-width: 0;\n  stroke: currentColor;\n  fill: currentColor;\n}\n</style><pre class='xr-text-repr-fallback'>&lt;xarray.Dataset&gt;\nDimensions:          (crs: 1, day: 30, lat: 585, lon: 1386, time: 16)\nCoordinates:\n  * lat              (lat) float64 49.4 49.36 49.32 49.28 ... 25.15 25.11 25.07\n  * day              (day) datetime64[ns] 2021-04-28 2021-04-29 ... 2021-05-27\n  * crs              (crs) int16 3\n  * lon              (lon) float64 -124.8 -124.7 -124.7 ... -67.14 -67.1 -67.06\nDimensions without coordinates: time\nData variables:\n    air_temperature  (time, day, lat, lon) float32 dask.array&lt;chunksize=(1, 30, 585, 1386), meta=np.ndarray&gt;\nAttributes:\n    geospatial_bounds_crs:      EPSG:4326\n    Conventions:                CF-1.6\n    geospatial_bounds:          POLYGON((-124.7666666333333 49.40000000000000...\n    geospatial_lat_min:         25.066666666666666\n    geospatial_lat_max:         49.40000000000000\n    geospatial_lon_min:         -124.7666666333333\n    geospatial_lon_max:         -67.058333300000015\n    geospatial_lon_resolution:  0.041666666666666\n    geospatial_lat_resolution:  0.041666666666666\n    geospatial_lat_units:       decimal_degrees north\n    geospatial_lon_units:       decimal_degrees east\n    coordinate_system:          EPSG:4326\n    author:                     John Abatzoglou - University of Idaho, jabatz...\n    date:                       27 April 2021\n    note1:                      The projection information for this file is: ...\n    note2:                      Citation: Abatzoglou, J.T., 2013, Development...\n    last_permanent_slice:       0\n    last_early_slice:           30\n    last_provisional_slice:     24\n    note3:                      Data in slices after last_permanent_slice (1-...\n    note4:                      Data in slices after last_provisional_slice (...\n    note5:                      Days correspond approximately to calendar day...</pre><div class='xr-wrap' hidden><div class='xr-header'><div class='xr-obj-type'>xarray.Dataset</div></div><ul class='xr-sections'><li class='xr-section-item'><input id='section-33ac73d7-d6d5-461f-a352-012c64c1a357' class='xr-section-summary-in' type='checkbox' disabled ><label for='section-33ac73d7-d6d5-461f-a352-012c64c1a357' class='xr-section-summary'  title='Expand/collapse section'>Dimensions:</label><div class='xr-section-inline-details'><ul class='xr-dim-list'><li><span class='xr-has-index'>crs</span>: 1</li><li><span class='xr-has-index'>day</span>: 30</li><li><span class='xr-has-index'>lat</span>: 585</li><li><span class='xr-has-index'>lon</span>: 1386</li><li><span>time</span>: 16</li></ul></div><div class='xr-section-details'></div></li><li class='xr-section-item'><input id='section-506f070c-98a2-489e-9130-02c1352330f7' class='xr-section-summary-in' type='checkbox'  checked><label for='section-506f070c-98a2-489e-9130-02c1352330f7' class='xr-section-summary' >Coordinates: <span>(4)</span></label><div class='xr-section-inline-details'></div><div class='xr-section-details'><ul class='xr-var-list'><li class='xr-var-item'><div class='xr-var-name'><span class='xr-has-index'>lat</span></div><div class='xr-var-dims'>(lat)</div><div class='xr-var-dtype'>float64</div><div class='xr-var-preview xr-preview'>49.4 49.36 49.32 ... 25.11 25.07</div><input id='attrs-8d842961-0357-4a38-a20c-c36cc478cad2' class='xr-var-attrs-in' type='checkbox' ><label for='attrs-8d842961-0357-4a38-a20c-c36cc478cad2' title='Show/Hide attributes'><svg class='icon xr-icon-file-text2'><use xlink:href='#icon-file-text2'></use></svg></label><input id='data-26e5dc2d-35af-4905-9c86-6ecbf935b23c' class='xr-var-data-in' type='checkbox'><label for='data-26e5dc2d-35af-4905-9c86-6ecbf935b23c' title='Show/Hide data repr'><svg class='icon xr-icon-database'><use xlink:href='#icon-database'></use></svg></label><div class='xr-var-attrs'><dl class='xr-attrs'><dt><span>units :</span></dt><dd>degrees_north</dd><dt><span>description :</span></dt><dd>latitude</dd><dt><span>long_name :</span></dt><dd>latitude</dd><dt><span>standard_name :</span></dt><dd>latitude</dd><dt><span>axis :</span></dt><dd>Y</dd><dt><span>_ChunkSizes :</span></dt><dd>585</dd></dl></div><div class='xr-var-data'><pre>array([49.4     , 49.358333, 49.316667, ..., 25.15    , 25.108333, 25.066667])</pre></div></li><li class='xr-var-item'><div class='xr-var-name'><span class='xr-has-index'>day</span></div><div class='xr-var-dims'>(day)</div><div class='xr-var-dtype'>datetime64[ns]</div><div class='xr-var-preview xr-preview'>2021-04-28 ... 2021-05-27</div><input id='attrs-78a09978-6fbb-433b-93b2-890a97b36507' class='xr-var-attrs-in' type='checkbox' ><label for='attrs-78a09978-6fbb-433b-93b2-890a97b36507' title='Show/Hide attributes'><svg class='icon xr-icon-file-text2'><use xlink:href='#icon-file-text2'></use></svg></label><input id='data-3dcd0993-a381-4489-958a-102477db5735' class='xr-var-data-in' type='checkbox'><label for='data-3dcd0993-a381-4489-958a-102477db5735' title='Show/Hide data repr'><svg class='icon xr-icon-database'><use xlink:href='#icon-database'></use></svg></label><div class='xr-var-attrs'><dl class='xr-attrs'><dt><span>description :</span></dt><dd>days since 1900-01-01</dd><dt><span>long_name :</span></dt><dd>time</dd><dt><span>standard_name :</span></dt><dd>time</dd><dt><span>_ChunkSizes :</span></dt><dd>30</dd></dl></div><div class='xr-var-data'><pre>array([&#x27;2021-04-28T00:00:00.000000000&#x27;, &#x27;2021-04-29T00:00:00.000000000&#x27;,\n       &#x27;2021-04-30T00:00:00.000000000&#x27;, &#x27;2021-05-01T00:00:00.000000000&#x27;,\n       &#x27;2021-05-02T00:00:00.000000000&#x27;, &#x27;2021-05-03T00:00:00.000000000&#x27;,\n       &#x27;2021-05-04T00:00:00.000000000&#x27;, &#x27;2021-05-05T00:00:00.000000000&#x27;,\n       &#x27;2021-05-06T00:00:00.000000000&#x27;, &#x27;2021-05-07T00:00:00.000000000&#x27;,\n       &#x27;2021-05-08T00:00:00.000000000&#x27;, &#x27;2021-05-09T00:00:00.000000000&#x27;,\n       &#x27;2021-05-10T00:00:00.000000000&#x27;, &#x27;2021-05-11T00:00:00.000000000&#x27;,\n       &#x27;2021-05-12T00:00:00.000000000&#x27;, &#x27;2021-05-13T00:00:00.000000000&#x27;,\n       &#x27;2021-05-14T00:00:00.000000000&#x27;, &#x27;2021-05-15T00:00:00.000000000&#x27;,\n       &#x27;2021-05-16T00:00:00.000000000&#x27;, &#x27;2021-05-17T00:00:00.000000000&#x27;,\n       &#x27;2021-05-18T00:00:00.000000000&#x27;, &#x27;2021-05-19T00:00:00.000000000&#x27;,\n       &#x27;2021-05-20T00:00:00.000000000&#x27;, &#x27;2021-05-21T00:00:00.000000000&#x27;,\n       &#x27;2021-05-22T00:00:00.000000000&#x27;, &#x27;2021-05-23T00:00:00.000000000&#x27;,\n       &#x27;2021-05-24T00:00:00.000000000&#x27;, &#x27;2021-05-25T00:00:00.000000000&#x27;,\n       &#x27;2021-05-26T00:00:00.000000000&#x27;, &#x27;2021-05-27T00:00:00.000000000&#x27;],\n      dtype=&#x27;datetime64[ns]&#x27;)</pre></div></li><li class='xr-var-item'><div class='xr-var-name'><span class='xr-has-index'>crs</span></div><div class='xr-var-dims'>(crs)</div><div class='xr-var-dtype'>int16</div><div class='xr-var-preview xr-preview'>3</div><input id='attrs-7f4b1dd8-d557-4005-b6bd-f13f3442e537' class='xr-var-attrs-in' type='checkbox' ><label for='attrs-7f4b1dd8-d557-4005-b6bd-f13f3442e537' title='Show/Hide attributes'><svg class='icon xr-icon-file-text2'><use xlink:href='#icon-file-text2'></use></svg></label><input id='data-c67c4e0a-d237-42d9-8c5e-965fe9cddf19' class='xr-var-data-in' type='checkbox'><label for='data-c67c4e0a-d237-42d9-8c5e-965fe9cddf19' title='Show/Hide data repr'><svg class='icon xr-icon-database'><use xlink:href='#icon-database'></use></svg></label><div class='xr-var-attrs'><dl class='xr-attrs'><dt><span>grid_mapping_name :</span></dt><dd>latitude_longitude</dd><dt><span>longitude_of_prime_meridian :</span></dt><dd>0.0</dd><dt><span>semi_major_axis :</span></dt><dd>6378137.0</dd><dt><span>long_name :</span></dt><dd>WGS 84</dd><dt><span>inverse_flattening :</span></dt><dd>298.257223563</dd><dt><span>GeoTransform :</span></dt><dd>-124.7666666333333 0.041666666666666 0  49.400000000000000 -0.041666666666666</dd><dt><span>spatial_ref :</span></dt><dd>GEOGCS[&quot;WGS 84&quot;,DATUM[&quot;WGS_1984&quot;,SPHEROID[&quot;WGS 84&quot;,6378137,298.257223563,AUTHORITY[&quot;EPSG&quot;,&quot;7030&quot;]],AUTHORITY[&quot;EPSG&quot;,&quot;6326&quot;]],PRIMEM[&quot;Greenwich&quot;,0,AUTHORITY[&quot;EPSG&quot;,&quot;8901&quot;]],UNIT[&quot;degree&quot;,0.0174532925199433,AUTHORITY[&quot;EPSG&quot;,&quot;9122&quot;]],AUTHORITY[&quot;EPSG&quot;,&quot;4326&quot;]]</dd><dt><span>_ChunkSizes :</span></dt><dd>1</dd></dl></div><div class='xr-var-data'><pre>array([3], dtype=int16)</pre></div></li><li class='xr-var-item'><div class='xr-var-name'><span class='xr-has-index'>lon</span></div><div class='xr-var-dims'>(lon)</div><div class='xr-var-dtype'>float64</div><div class='xr-var-preview xr-preview'>-124.8 -124.7 ... -67.1 -67.06</div><input id='attrs-b6712003-8661-43ea-a1d2-79bbf45cf891' class='xr-var-attrs-in' type='checkbox' ><label for='attrs-b6712003-8661-43ea-a1d2-79bbf45cf891' title='Show/Hide attributes'><svg class='icon xr-icon-file-text2'><use xlink:href='#icon-file-text2'></use></svg></label><input id='data-5e90fd55-f70b-4cbf-be3f-5fdbba0e7e2f' class='xr-var-data-in' type='checkbox'><label for='data-5e90fd55-f70b-4cbf-be3f-5fdbba0e7e2f' title='Show/Hide data repr'><svg class='icon xr-icon-database'><use xlink:href='#icon-database'></use></svg></label><div class='xr-var-attrs'><dl class='xr-attrs'><dt><span>units :</span></dt><dd>degrees_east</dd><dt><span>description :</span></dt><dd>longitude</dd><dt><span>long_name :</span></dt><dd>longitude</dd><dt><span>standard_name :</span></dt><dd>longitude</dd><dt><span>axis :</span></dt><dd>X</dd><dt><span>_ChunkSizes :</span></dt><dd>1386</dd></dl></div><div class='xr-var-data'><pre>array([-124.766667, -124.725   , -124.683333, ...,  -67.141667,  -67.1     ,\n        -67.058333])</pre></div></li></ul></div></li><li class='xr-section-item'><input id='section-8dfb32a3-118b-4cd5-8c97-53a0dbde9870' class='xr-section-summary-in' type='checkbox'  checked><label for='section-8dfb32a3-118b-4cd5-8c97-53a0dbde9870' class='xr-section-summary' >Data variables: <span>(1)</span></label><div class='xr-section-inline-details'></div><div class='xr-section-details'><ul class='xr-var-list'><li class='xr-var-item'><div class='xr-var-name'><span>air_temperature</span></div><div class='xr-var-dims'>(time, day, lat, lon)</div><div class='xr-var-dtype'>float32</div><div class='xr-var-preview xr-preview'>dask.array&lt;chunksize=(1, 30, 585, 1386), meta=np.ndarray&gt;</div><input id='attrs-91cf3c1b-43d1-4cd3-a24e-af872b0414ea' class='xr-var-attrs-in' type='checkbox' ><label for='attrs-91cf3c1b-43d1-4cd3-a24e-af872b0414ea' title='Show/Hide attributes'><svg class='icon xr-icon-file-text2'><use xlink:href='#icon-file-text2'></use></svg></label><input id='data-9c6c3afa-242b-475e-ab55-018658db4c5d' class='xr-var-data-in' type='checkbox'><label for='data-9c6c3afa-242b-475e-ab55-018658db4c5d' title='Show/Hide data repr'><svg class='icon xr-icon-database'><use xlink:href='#icon-database'></use></svg></label><div class='xr-var-attrs'><dl class='xr-attrs'><dt><span>units :</span></dt><dd>K</dd><dt><span>description :</span></dt><dd>Daily Minimum Temperature</dd><dt><span>long_name :</span></dt><dd>tmmn</dd><dt><span>standard_name :</span></dt><dd>tmmn</dd><dt><span>dimensions :</span></dt><dd>lon lat time</dd><dt><span>grid_mapping :</span></dt><dd>crs</dd><dt><span>coordinate_system :</span></dt><dd>WGS84,EPSG:4326</dd><dt><span>coordinates :</span></dt><dd>lon lat time</dd><dt><span>_ChunkSizes :</span></dt><dd>[ 10 195 462]</dd></dl></div><div class='xr-var-data'><table>\n<tr>\n<td>\n<table>\n  <thead>\n    <tr><td> </td><th> Array </th><th> Chunk </th></tr>\n  </thead>\n  <tbody>\n    <tr><th> Bytes </th><td> 1.56 GB </td> <td> 97.30 MB </td></tr>\n    <tr><th> Shape </th><td> (16, 30, 585, 1386) </td> <td> (1, 30, 585, 1386) </td></tr>\n    <tr><th> Count </th><td> 64 Tasks </td><td> 16 Chunks </td></tr>\n    <tr><th> Type </th><td> float32 </td><td> numpy.ndarray </td></tr>\n  </tbody>\n</table>\n</td>\n<td>\n<svg width=\"379\" height=\"117\" style=\"stroke:rgb(0,0,0);stroke-width:1\" >\n\n  <!-- Horizontal lines -->\n  <line x1=\"0\" y1=\"0\" x2=\"26\" y2=\"0\" style=\"stroke-width:2\" />\n  <line x1=\"0\" y1=\"25\" x2=\"26\" y2=\"25\" style=\"stroke-width:2\" />\n\n  <!-- Vertical lines -->\n  <line x1=\"0\" y1=\"0\" x2=\"0\" y2=\"25\" style=\"stroke-width:2\" />\n  <line x1=\"1\" y1=\"0\" x2=\"1\" y2=\"25\" />\n  <line x1=\"3\" y1=\"0\" x2=\"3\" y2=\"25\" />\n  <line x1=\"4\" y1=\"0\" x2=\"4\" y2=\"25\" />\n  <line x1=\"6\" y1=\"0\" x2=\"6\" y2=\"25\" />\n  <line x1=\"8\" y1=\"0\" x2=\"8\" y2=\"25\" />\n  <line x1=\"9\" y1=\"0\" x2=\"9\" y2=\"25\" />\n  <line x1=\"11\" y1=\"0\" x2=\"11\" y2=\"25\" />\n  <line x1=\"13\" y1=\"0\" x2=\"13\" y2=\"25\" />\n  <line x1=\"14\" y1=\"0\" x2=\"14\" y2=\"25\" />\n  <line x1=\"16\" y1=\"0\" x2=\"16\" y2=\"25\" />\n  <line x1=\"17\" y1=\"0\" x2=\"17\" y2=\"25\" />\n  <line x1=\"19\" y1=\"0\" x2=\"19\" y2=\"25\" />\n  <line x1=\"21\" y1=\"0\" x2=\"21\" y2=\"25\" />\n  <line x1=\"22\" y1=\"0\" x2=\"22\" y2=\"25\" />\n  <line x1=\"24\" y1=\"0\" x2=\"24\" y2=\"25\" />\n  <line x1=\"26\" y1=\"0\" x2=\"26\" y2=\"25\" style=\"stroke-width:2\" />\n\n  <!-- Colored Rectangle -->\n  <polygon points=\"0.0,0.0 26.113226748541404,0.0 26.113226748541404,25.412616514582485 0.0,25.412616514582485\" style=\"fill:#ECB172A0;stroke-width:0\"/>\n\n  <!-- Text -->\n  <text x=\"13.056613\" y=\"45.412617\" font-size=\"1.0rem\" font-weight=\"100\" text-anchor=\"middle\" >16</text>\n  <text x=\"46.113227\" y=\"12.706308\" font-size=\"1.0rem\" font-weight=\"100\" text-anchor=\"middle\" transform=\"rotate(0,46.113227,12.706308)\">1</text>\n\n\n  <!-- Horizontal lines -->\n  <line x1=\"96\" y1=\"0\" x2=\"113\" y2=\"17\" style=\"stroke-width:2\" />\n  <line x1=\"96\" y1=\"50\" x2=\"113\" y2=\"67\" style=\"stroke-width:2\" />\n\n  <!-- Vertical lines -->\n  <line x1=\"96\" y1=\"0\" x2=\"96\" y2=\"50\" style=\"stroke-width:2\" />\n  <line x1=\"113\" y1=\"17\" x2=\"113\" y2=\"67\" style=\"stroke-width:2\" />\n\n  <!-- Colored Rectangle -->\n  <polygon points=\"96.0,0.0 113.34041654774762,17.340416547747616 113.34041654774762,67.98976719709827 96.0,50.64935064935065\" style=\"fill:#ECB172A0;stroke-width:0\"/>\n\n  <!-- Horizontal lines -->\n  <line x1=\"96\" y1=\"0\" x2=\"216\" y2=\"0\" style=\"stroke-width:2\" />\n  <line x1=\"113\" y1=\"17\" x2=\"233\" y2=\"17\" style=\"stroke-width:2\" />\n\n  <!-- Vertical lines -->\n  <line x1=\"96\" y1=\"0\" x2=\"113\" y2=\"17\" style=\"stroke-width:2\" />\n  <line x1=\"216\" y1=\"0\" x2=\"233\" y2=\"17\" style=\"stroke-width:2\" />\n\n  <!-- Colored Rectangle -->\n  <polygon points=\"96.0,0.0 216.0,0.0 233.34041654774762,17.340416547747616 113.34041654774762,17.340416547747616\" style=\"fill:#ECB172A0;stroke-width:0\"/>\n\n  <!-- Horizontal lines -->\n  <line x1=\"113\" y1=\"17\" x2=\"233\" y2=\"17\" style=\"stroke-width:2\" />\n  <line x1=\"113\" y1=\"67\" x2=\"233\" y2=\"67\" style=\"stroke-width:2\" />\n\n  <!-- Vertical lines -->\n  <line x1=\"113\" y1=\"17\" x2=\"113\" y2=\"67\" style=\"stroke-width:2\" />\n  <line x1=\"233\" y1=\"17\" x2=\"233\" y2=\"67\" style=\"stroke-width:2\" />\n\n  <!-- Colored Rectangle -->\n  <polygon points=\"113.34041654774762,17.340416547747616 233.34041654774762,17.340416547747616 233.34041654774762,67.98976719709827 113.34041654774762,67.98976719709827\" style=\"fill:#ECB172A0;stroke-width:0\"/>\n\n  <!-- Text -->\n  <text x=\"173.340417\" y=\"87.989767\" font-size=\"1.0rem\" font-weight=\"100\" text-anchor=\"middle\" >1386</text>\n  <text x=\"253.340417\" y=\"42.665092\" font-size=\"1.0rem\" font-weight=\"100\" text-anchor=\"middle\" transform=\"rotate(-90,253.340417,42.665092)\">585</text>\n  <text x=\"94.670208\" y=\"79.319559\" font-size=\"1.0rem\" font-weight=\"100\" text-anchor=\"middle\" transform=\"rotate(45,94.670208,79.319559)\">30</text>\n</svg>\n</td>\n</tr>\n</table></div></li></ul></div></li><li class='xr-section-item'><input id='section-4bcdd3fe-05b6-418f-ba1f-48ec9beb1e44' class='xr-section-summary-in' type='checkbox'  ><label for='section-4bcdd3fe-05b6-418f-ba1f-48ec9beb1e44' class='xr-section-summary' >Attributes: <span>(22)</span></label><div class='xr-section-inline-details'></div><div class='xr-section-details'><dl class='xr-attrs'><dt><span>geospatial_bounds_crs :</span></dt><dd>EPSG:4326</dd><dt><span>Conventions :</span></dt><dd>CF-1.6</dd><dt><span>geospatial_bounds :</span></dt><dd>POLYGON((-124.7666666333333 49.400000000000000, -124.7666666333333 25.066666666666666, -67.058333300000015 25.066666666666666, -67.058333300000015 49.400000000000000, -124.7666666333333 49.400000000000000))</dd><dt><span>geospatial_lat_min :</span></dt><dd>25.066666666666666</dd><dt><span>geospatial_lat_max :</span></dt><dd>49.40000000000000</dd><dt><span>geospatial_lon_min :</span></dt><dd>-124.7666666333333</dd><dt><span>geospatial_lon_max :</span></dt><dd>-67.058333300000015</dd><dt><span>geospatial_lon_resolution :</span></dt><dd>0.041666666666666</dd><dt><span>geospatial_lat_resolution :</span></dt><dd>0.041666666666666</dd><dt><span>geospatial_lat_units :</span></dt><dd>decimal_degrees north</dd><dt><span>geospatial_lon_units :</span></dt><dd>decimal_degrees east</dd><dt><span>coordinate_system :</span></dt><dd>EPSG:4326</dd><dt><span>author :</span></dt><dd>John Abatzoglou - University of Idaho, jabatzoglou@uidaho.edu</dd><dt><span>date :</span></dt><dd>27 April 2021</dd><dt><span>note1 :</span></dt><dd>The projection information for this file is: GCS WGS 1984.</dd><dt><span>note2 :</span></dt><dd>Citation: Abatzoglou, J.T., 2013, Development of gridded surface meteorological data for ecological applications and modeling, International Journal of Climatology, DOI: 10.1002/joc.3413</dd><dt><span>last_permanent_slice :</span></dt><dd>0</dd><dt><span>last_early_slice :</span></dt><dd>30</dd><dt><span>last_provisional_slice :</span></dt><dd>24</dd><dt><span>note3 :</span></dt><dd>Data in slices after last_permanent_slice (1-based) are considered provisional and subject to change with subsequent updates</dd><dt><span>note4 :</span></dt><dd>Data in slices after last_provisional_slice (1-based) are considered early and subject to change with subsequent updates</dd><dt><span>note5 :</span></dt><dd>Days correspond approximately to calendar days ending at midnight, Mountain Standard Time (7 UTC the next calendar day)</dd></dl></div></li></ul></div></div>"
     },
     "metadata": {},
     "execution_count": 3
    }
   ],
   "source": [
    "ds0"
   ]
  },
  {
   "cell_type": "code",
   "execution_count": 6,
   "metadata": {},
   "outputs": [
    {
     "output_type": "execute_result",
     "data": {
      "text/plain": [
       "<xarray.Dataset>\n",
       "Dimensions:          (crs: 1, day: 30, lat: 585, lon: 1386)\n",
       "Coordinates:\n",
       "  * lat              (lat) float64 49.4 49.36 49.32 49.28 ... 25.15 25.11 25.07\n",
       "  * day              (day) datetime64[ns] 2021-04-28 2021-04-29 ... 2021-05-27\n",
       "  * crs              (crs) int16 3\n",
       "  * lon              (lon) float64 -124.8 -124.7 -124.7 ... -67.14 -67.1 -67.06\n",
       "Data variables:\n",
       "    air_temperature  (day, lat, lon) float32 dask.array<chunksize=(10, 195, 462), meta=np.ndarray>\n",
       "Attributes:\n",
       "    geospatial_bounds_crs:      EPSG:4326\n",
       "    Conventions:                CF-1.6\n",
       "    geospatial_bounds:          POLYGON((-124.7666666333333 49.40000000000000...\n",
       "    geospatial_lat_min:         25.066666666666666\n",
       "    geospatial_lat_max:         49.40000000000000\n",
       "    geospatial_lon_min:         -124.7666666333333\n",
       "    geospatial_lon_max:         -67.058333300000015\n",
       "    geospatial_lon_resolution:  0.041666666666666\n",
       "    geospatial_lat_resolution:  0.041666666666666\n",
       "    geospatial_lat_units:       decimal_degrees north\n",
       "    geospatial_lon_units:       decimal_degrees east\n",
       "    coordinate_system:          EPSG:4326\n",
       "    author:                     John Abatzoglou - University of Idaho, jabatz...\n",
       "    date:                       27 April 2021\n",
       "    note1:                      The projection information for this file is: ...\n",
       "    note2:                      Citation: Abatzoglou, J.T., 2013, Development...\n",
       "    last_permanent_slice:       0\n",
       "    last_early_slice:           30\n",
       "    last_provisional_slice:     24\n",
       "    note3:                      Data in slices after last_permanent_slice (1-...\n",
       "    note4:                      Data in slices after last_provisional_slice (...\n",
       "    note5:                      Days correspond approximately to calendar day..."
      ],
      "text/html": "<div><svg style=\"position: absolute; width: 0; height: 0; overflow: hidden\">\n<defs>\n<symbol id=\"icon-database\" viewBox=\"0 0 32 32\">\n<path d=\"M16 0c-8.837 0-16 2.239-16 5v4c0 2.761 7.163 5 16 5s16-2.239 16-5v-4c0-2.761-7.163-5-16-5z\"></path>\n<path d=\"M16 17c-8.837 0-16-2.239-16-5v6c0 2.761 7.163 5 16 5s16-2.239 16-5v-6c0 2.761-7.163 5-16 5z\"></path>\n<path d=\"M16 26c-8.837 0-16-2.239-16-5v6c0 2.761 7.163 5 16 5s16-2.239 16-5v-6c0 2.761-7.163 5-16 5z\"></path>\n</symbol>\n<symbol id=\"icon-file-text2\" viewBox=\"0 0 32 32\">\n<path d=\"M28.681 7.159c-0.694-0.947-1.662-2.053-2.724-3.116s-2.169-2.030-3.116-2.724c-1.612-1.182-2.393-1.319-2.841-1.319h-15.5c-1.378 0-2.5 1.121-2.5 2.5v27c0 1.378 1.122 2.5 2.5 2.5h23c1.378 0 2.5-1.122 2.5-2.5v-19.5c0-0.448-0.137-1.23-1.319-2.841zM24.543 5.457c0.959 0.959 1.712 1.825 2.268 2.543h-4.811v-4.811c0.718 0.556 1.584 1.309 2.543 2.268zM28 29.5c0 0.271-0.229 0.5-0.5 0.5h-23c-0.271 0-0.5-0.229-0.5-0.5v-27c0-0.271 0.229-0.5 0.5-0.5 0 0 15.499-0 15.5 0v7c0 0.552 0.448 1 1 1h7v19.5z\"></path>\n<path d=\"M23 26h-14c-0.552 0-1-0.448-1-1s0.448-1 1-1h14c0.552 0 1 0.448 1 1s-0.448 1-1 1z\"></path>\n<path d=\"M23 22h-14c-0.552 0-1-0.448-1-1s0.448-1 1-1h14c0.552 0 1 0.448 1 1s-0.448 1-1 1z\"></path>\n<path d=\"M23 18h-14c-0.552 0-1-0.448-1-1s0.448-1 1-1h14c0.552 0 1 0.448 1 1s-0.448 1-1 1z\"></path>\n</symbol>\n</defs>\n</svg>\n<style>/* CSS stylesheet for displaying xarray objects in jupyterlab.\n *\n */\n\n:root {\n  --xr-font-color0: var(--jp-content-font-color0, rgba(0, 0, 0, 1));\n  --xr-font-color2: var(--jp-content-font-color2, rgba(0, 0, 0, 0.54));\n  --xr-font-color3: var(--jp-content-font-color3, rgba(0, 0, 0, 0.38));\n  --xr-border-color: var(--jp-border-color2, #e0e0e0);\n  --xr-disabled-color: var(--jp-layout-color3, #bdbdbd);\n  --xr-background-color: var(--jp-layout-color0, white);\n  --xr-background-color-row-even: var(--jp-layout-color1, white);\n  --xr-background-color-row-odd: var(--jp-layout-color2, #eeeeee);\n}\n\nhtml[theme=dark],\nbody.vscode-dark {\n  --xr-font-color0: rgba(255, 255, 255, 1);\n  --xr-font-color2: rgba(255, 255, 255, 0.54);\n  --xr-font-color3: rgba(255, 255, 255, 0.38);\n  --xr-border-color: #1F1F1F;\n  --xr-disabled-color: #515151;\n  --xr-background-color: #111111;\n  --xr-background-color-row-even: #111111;\n  --xr-background-color-row-odd: #313131;\n}\n\n.xr-wrap {\n  display: block;\n  min-width: 300px;\n  max-width: 700px;\n}\n\n.xr-text-repr-fallback {\n  /* fallback to plain text repr when CSS is not injected (untrusted notebook) */\n  display: none;\n}\n\n.xr-header {\n  padding-top: 6px;\n  padding-bottom: 6px;\n  margin-bottom: 4px;\n  border-bottom: solid 1px var(--xr-border-color);\n}\n\n.xr-header > div,\n.xr-header > ul {\n  display: inline;\n  margin-top: 0;\n  margin-bottom: 0;\n}\n\n.xr-obj-type,\n.xr-array-name {\n  margin-left: 2px;\n  margin-right: 10px;\n}\n\n.xr-obj-type {\n  color: var(--xr-font-color2);\n}\n\n.xr-sections {\n  padding-left: 0 !important;\n  display: grid;\n  grid-template-columns: 150px auto auto 1fr 20px 20px;\n}\n\n.xr-section-item {\n  display: contents;\n}\n\n.xr-section-item input {\n  display: none;\n}\n\n.xr-section-item input + label {\n  color: var(--xr-disabled-color);\n}\n\n.xr-section-item input:enabled + label {\n  cursor: pointer;\n  color: var(--xr-font-color2);\n}\n\n.xr-section-item input:enabled + label:hover {\n  color: var(--xr-font-color0);\n}\n\n.xr-section-summary {\n  grid-column: 1;\n  color: var(--xr-font-color2);\n  font-weight: 500;\n}\n\n.xr-section-summary > span {\n  display: inline-block;\n  padding-left: 0.5em;\n}\n\n.xr-section-summary-in:disabled + label {\n  color: var(--xr-font-color2);\n}\n\n.xr-section-summary-in + label:before {\n  display: inline-block;\n  content: '►';\n  font-size: 11px;\n  width: 15px;\n  text-align: center;\n}\n\n.xr-section-summary-in:disabled + label:before {\n  color: var(--xr-disabled-color);\n}\n\n.xr-section-summary-in:checked + label:before {\n  content: '▼';\n}\n\n.xr-section-summary-in:checked + label > span {\n  display: none;\n}\n\n.xr-section-summary,\n.xr-section-inline-details {\n  padding-top: 4px;\n  padding-bottom: 4px;\n}\n\n.xr-section-inline-details {\n  grid-column: 2 / -1;\n}\n\n.xr-section-details {\n  display: none;\n  grid-column: 1 / -1;\n  margin-bottom: 5px;\n}\n\n.xr-section-summary-in:checked ~ .xr-section-details {\n  display: contents;\n}\n\n.xr-array-wrap {\n  grid-column: 1 / -1;\n  display: grid;\n  grid-template-columns: 20px auto;\n}\n\n.xr-array-wrap > label {\n  grid-column: 1;\n  vertical-align: top;\n}\n\n.xr-preview {\n  color: var(--xr-font-color3);\n}\n\n.xr-array-preview,\n.xr-array-data {\n  padding: 0 5px !important;\n  grid-column: 2;\n}\n\n.xr-array-data,\n.xr-array-in:checked ~ .xr-array-preview {\n  display: none;\n}\n\n.xr-array-in:checked ~ .xr-array-data,\n.xr-array-preview {\n  display: inline-block;\n}\n\n.xr-dim-list {\n  display: inline-block !important;\n  list-style: none;\n  padding: 0 !important;\n  margin: 0;\n}\n\n.xr-dim-list li {\n  display: inline-block;\n  padding: 0;\n  margin: 0;\n}\n\n.xr-dim-list:before {\n  content: '(';\n}\n\n.xr-dim-list:after {\n  content: ')';\n}\n\n.xr-dim-list li:not(:last-child):after {\n  content: ',';\n  padding-right: 5px;\n}\n\n.xr-has-index {\n  font-weight: bold;\n}\n\n.xr-var-list,\n.xr-var-item {\n  display: contents;\n}\n\n.xr-var-item > div,\n.xr-var-item label,\n.xr-var-item > .xr-var-name span {\n  background-color: var(--xr-background-color-row-even);\n  margin-bottom: 0;\n}\n\n.xr-var-item > .xr-var-name:hover span {\n  padding-right: 5px;\n}\n\n.xr-var-list > li:nth-child(odd) > div,\n.xr-var-list > li:nth-child(odd) > label,\n.xr-var-list > li:nth-child(odd) > .xr-var-name span {\n  background-color: var(--xr-background-color-row-odd);\n}\n\n.xr-var-name {\n  grid-column: 1;\n}\n\n.xr-var-dims {\n  grid-column: 2;\n}\n\n.xr-var-dtype {\n  grid-column: 3;\n  text-align: right;\n  color: var(--xr-font-color2);\n}\n\n.xr-var-preview {\n  grid-column: 4;\n}\n\n.xr-var-name,\n.xr-var-dims,\n.xr-var-dtype,\n.xr-preview,\n.xr-attrs dt {\n  white-space: nowrap;\n  overflow: hidden;\n  text-overflow: ellipsis;\n  padding-right: 10px;\n}\n\n.xr-var-name:hover,\n.xr-var-dims:hover,\n.xr-var-dtype:hover,\n.xr-attrs dt:hover {\n  overflow: visible;\n  width: auto;\n  z-index: 1;\n}\n\n.xr-var-attrs,\n.xr-var-data {\n  display: none;\n  background-color: var(--xr-background-color) !important;\n  padding-bottom: 5px !important;\n}\n\n.xr-var-attrs-in:checked ~ .xr-var-attrs,\n.xr-var-data-in:checked ~ .xr-var-data {\n  display: block;\n}\n\n.xr-var-data > table {\n  float: right;\n}\n\n.xr-var-name span,\n.xr-var-data,\n.xr-attrs {\n  padding-left: 25px !important;\n}\n\n.xr-attrs,\n.xr-var-attrs,\n.xr-var-data {\n  grid-column: 1 / -1;\n}\n\ndl.xr-attrs {\n  padding: 0;\n  margin: 0;\n  display: grid;\n  grid-template-columns: 125px auto;\n}\n\n.xr-attrs dt,\n.xr-attrs dd {\n  padding: 0;\n  margin: 0;\n  float: left;\n  padding-right: 10px;\n  width: auto;\n}\n\n.xr-attrs dt {\n  font-weight: normal;\n  grid-column: 1;\n}\n\n.xr-attrs dt:hover span {\n  display: inline-block;\n  background: var(--xr-background-color);\n  padding-right: 10px;\n}\n\n.xr-attrs dd {\n  grid-column: 2;\n  white-space: pre-wrap;\n  word-break: break-all;\n}\n\n.xr-icon-database,\n.xr-icon-file-text2 {\n  display: inline-block;\n  vertical-align: middle;\n  width: 1em;\n  height: 1.5em !important;\n  stroke-width: 0;\n  stroke: currentColor;\n  fill: currentColor;\n}\n</style><pre class='xr-text-repr-fallback'>&lt;xarray.Dataset&gt;\nDimensions:          (crs: 1, day: 30, lat: 585, lon: 1386)\nCoordinates:\n  * lat              (lat) float64 49.4 49.36 49.32 49.28 ... 25.15 25.11 25.07\n  * day              (day) datetime64[ns] 2021-04-28 2021-04-29 ... 2021-05-27\n  * crs              (crs) int16 3\n  * lon              (lon) float64 -124.8 -124.7 -124.7 ... -67.14 -67.1 -67.06\nData variables:\n    air_temperature  (day, lat, lon) float32 dask.array&lt;chunksize=(10, 195, 462), meta=np.ndarray&gt;\nAttributes:\n    geospatial_bounds_crs:      EPSG:4326\n    Conventions:                CF-1.6\n    geospatial_bounds:          POLYGON((-124.7666666333333 49.40000000000000...\n    geospatial_lat_min:         25.066666666666666\n    geospatial_lat_max:         49.40000000000000\n    geospatial_lon_min:         -124.7666666333333\n    geospatial_lon_max:         -67.058333300000015\n    geospatial_lon_resolution:  0.041666666666666\n    geospatial_lat_resolution:  0.041666666666666\n    geospatial_lat_units:       decimal_degrees north\n    geospatial_lon_units:       decimal_degrees east\n    coordinate_system:          EPSG:4326\n    author:                     John Abatzoglou - University of Idaho, jabatz...\n    date:                       27 April 2021\n    note1:                      The projection information for this file is: ...\n    note2:                      Citation: Abatzoglou, J.T., 2013, Development...\n    last_permanent_slice:       0\n    last_early_slice:           30\n    last_provisional_slice:     24\n    note3:                      Data in slices after last_permanent_slice (1-...\n    note4:                      Data in slices after last_provisional_slice (...\n    note5:                      Days correspond approximately to calendar day...</pre><div class='xr-wrap' hidden><div class='xr-header'><div class='xr-obj-type'>xarray.Dataset</div></div><ul class='xr-sections'><li class='xr-section-item'><input id='section-6b7d6694-6c59-41bd-a1a3-3a9b991bb7cc' class='xr-section-summary-in' type='checkbox' disabled ><label for='section-6b7d6694-6c59-41bd-a1a3-3a9b991bb7cc' class='xr-section-summary'  title='Expand/collapse section'>Dimensions:</label><div class='xr-section-inline-details'><ul class='xr-dim-list'><li><span class='xr-has-index'>crs</span>: 1</li><li><span class='xr-has-index'>day</span>: 30</li><li><span class='xr-has-index'>lat</span>: 585</li><li><span class='xr-has-index'>lon</span>: 1386</li></ul></div><div class='xr-section-details'></div></li><li class='xr-section-item'><input id='section-ee299bce-9129-45e2-8cd8-948d0faa5313' class='xr-section-summary-in' type='checkbox'  checked><label for='section-ee299bce-9129-45e2-8cd8-948d0faa5313' class='xr-section-summary' >Coordinates: <span>(4)</span></label><div class='xr-section-inline-details'></div><div class='xr-section-details'><ul class='xr-var-list'><li class='xr-var-item'><div class='xr-var-name'><span class='xr-has-index'>lat</span></div><div class='xr-var-dims'>(lat)</div><div class='xr-var-dtype'>float64</div><div class='xr-var-preview xr-preview'>49.4 49.36 49.32 ... 25.11 25.07</div><input id='attrs-b2898ca4-049f-4042-bf9f-6bd15550c3e6' class='xr-var-attrs-in' type='checkbox' ><label for='attrs-b2898ca4-049f-4042-bf9f-6bd15550c3e6' title='Show/Hide attributes'><svg class='icon xr-icon-file-text2'><use xlink:href='#icon-file-text2'></use></svg></label><input id='data-11151128-eea5-449b-bf8f-00c9e3e3a3a5' class='xr-var-data-in' type='checkbox'><label for='data-11151128-eea5-449b-bf8f-00c9e3e3a3a5' title='Show/Hide data repr'><svg class='icon xr-icon-database'><use xlink:href='#icon-database'></use></svg></label><div class='xr-var-attrs'><dl class='xr-attrs'><dt><span>units :</span></dt><dd>degrees_north</dd><dt><span>description :</span></dt><dd>latitude</dd><dt><span>long_name :</span></dt><dd>latitude</dd><dt><span>standard_name :</span></dt><dd>latitude</dd><dt><span>axis :</span></dt><dd>Y</dd><dt><span>_ChunkSizes :</span></dt><dd>585</dd></dl></div><div class='xr-var-data'><pre>array([49.4     , 49.358333, 49.316667, ..., 25.15    , 25.108333, 25.066667])</pre></div></li><li class='xr-var-item'><div class='xr-var-name'><span class='xr-has-index'>day</span></div><div class='xr-var-dims'>(day)</div><div class='xr-var-dtype'>datetime64[ns]</div><div class='xr-var-preview xr-preview'>2021-04-28 ... 2021-05-27</div><input id='attrs-be647c72-8908-4a69-b569-88c46c22494c' class='xr-var-attrs-in' type='checkbox' ><label for='attrs-be647c72-8908-4a69-b569-88c46c22494c' title='Show/Hide attributes'><svg class='icon xr-icon-file-text2'><use xlink:href='#icon-file-text2'></use></svg></label><input id='data-651532e1-a76f-46b2-aa8c-24b94ec5dfa2' class='xr-var-data-in' type='checkbox'><label for='data-651532e1-a76f-46b2-aa8c-24b94ec5dfa2' title='Show/Hide data repr'><svg class='icon xr-icon-database'><use xlink:href='#icon-database'></use></svg></label><div class='xr-var-attrs'><dl class='xr-attrs'><dt><span>description :</span></dt><dd>days since 1900-01-01</dd><dt><span>long_name :</span></dt><dd>time</dd><dt><span>standard_name :</span></dt><dd>time</dd><dt><span>_ChunkSizes :</span></dt><dd>30</dd></dl></div><div class='xr-var-data'><pre>array([&#x27;2021-04-28T00:00:00.000000000&#x27;, &#x27;2021-04-29T00:00:00.000000000&#x27;,\n       &#x27;2021-04-30T00:00:00.000000000&#x27;, &#x27;2021-05-01T00:00:00.000000000&#x27;,\n       &#x27;2021-05-02T00:00:00.000000000&#x27;, &#x27;2021-05-03T00:00:00.000000000&#x27;,\n       &#x27;2021-05-04T00:00:00.000000000&#x27;, &#x27;2021-05-05T00:00:00.000000000&#x27;,\n       &#x27;2021-05-06T00:00:00.000000000&#x27;, &#x27;2021-05-07T00:00:00.000000000&#x27;,\n       &#x27;2021-05-08T00:00:00.000000000&#x27;, &#x27;2021-05-09T00:00:00.000000000&#x27;,\n       &#x27;2021-05-10T00:00:00.000000000&#x27;, &#x27;2021-05-11T00:00:00.000000000&#x27;,\n       &#x27;2021-05-12T00:00:00.000000000&#x27;, &#x27;2021-05-13T00:00:00.000000000&#x27;,\n       &#x27;2021-05-14T00:00:00.000000000&#x27;, &#x27;2021-05-15T00:00:00.000000000&#x27;,\n       &#x27;2021-05-16T00:00:00.000000000&#x27;, &#x27;2021-05-17T00:00:00.000000000&#x27;,\n       &#x27;2021-05-18T00:00:00.000000000&#x27;, &#x27;2021-05-19T00:00:00.000000000&#x27;,\n       &#x27;2021-05-20T00:00:00.000000000&#x27;, &#x27;2021-05-21T00:00:00.000000000&#x27;,\n       &#x27;2021-05-22T00:00:00.000000000&#x27;, &#x27;2021-05-23T00:00:00.000000000&#x27;,\n       &#x27;2021-05-24T00:00:00.000000000&#x27;, &#x27;2021-05-25T00:00:00.000000000&#x27;,\n       &#x27;2021-05-26T00:00:00.000000000&#x27;, &#x27;2021-05-27T00:00:00.000000000&#x27;],\n      dtype=&#x27;datetime64[ns]&#x27;)</pre></div></li><li class='xr-var-item'><div class='xr-var-name'><span class='xr-has-index'>crs</span></div><div class='xr-var-dims'>(crs)</div><div class='xr-var-dtype'>int16</div><div class='xr-var-preview xr-preview'>3</div><input id='attrs-440de305-dc6e-4eb8-9144-798b0f154e0e' class='xr-var-attrs-in' type='checkbox' ><label for='attrs-440de305-dc6e-4eb8-9144-798b0f154e0e' title='Show/Hide attributes'><svg class='icon xr-icon-file-text2'><use xlink:href='#icon-file-text2'></use></svg></label><input id='data-4f1fedb6-2cd3-4196-a0d4-a4a73671f00a' class='xr-var-data-in' type='checkbox'><label for='data-4f1fedb6-2cd3-4196-a0d4-a4a73671f00a' title='Show/Hide data repr'><svg class='icon xr-icon-database'><use xlink:href='#icon-database'></use></svg></label><div class='xr-var-attrs'><dl class='xr-attrs'><dt><span>grid_mapping_name :</span></dt><dd>latitude_longitude</dd><dt><span>longitude_of_prime_meridian :</span></dt><dd>0.0</dd><dt><span>semi_major_axis :</span></dt><dd>6378137.0</dd><dt><span>long_name :</span></dt><dd>WGS 84</dd><dt><span>inverse_flattening :</span></dt><dd>298.257223563</dd><dt><span>GeoTransform :</span></dt><dd>-124.7666666333333 0.041666666666666 0  49.400000000000000 -0.041666666666666</dd><dt><span>spatial_ref :</span></dt><dd>GEOGCS[&quot;WGS 84&quot;,DATUM[&quot;WGS_1984&quot;,SPHEROID[&quot;WGS 84&quot;,6378137,298.257223563,AUTHORITY[&quot;EPSG&quot;,&quot;7030&quot;]],AUTHORITY[&quot;EPSG&quot;,&quot;6326&quot;]],PRIMEM[&quot;Greenwich&quot;,0,AUTHORITY[&quot;EPSG&quot;,&quot;8901&quot;]],UNIT[&quot;degree&quot;,0.0174532925199433,AUTHORITY[&quot;EPSG&quot;,&quot;9122&quot;]],AUTHORITY[&quot;EPSG&quot;,&quot;4326&quot;]]</dd><dt><span>_ChunkSizes :</span></dt><dd>1</dd></dl></div><div class='xr-var-data'><pre>array([3], dtype=int16)</pre></div></li><li class='xr-var-item'><div class='xr-var-name'><span class='xr-has-index'>lon</span></div><div class='xr-var-dims'>(lon)</div><div class='xr-var-dtype'>float64</div><div class='xr-var-preview xr-preview'>-124.8 -124.7 ... -67.1 -67.06</div><input id='attrs-752eae6f-d75b-4ed3-9cce-731f3909f14c' class='xr-var-attrs-in' type='checkbox' ><label for='attrs-752eae6f-d75b-4ed3-9cce-731f3909f14c' title='Show/Hide attributes'><svg class='icon xr-icon-file-text2'><use xlink:href='#icon-file-text2'></use></svg></label><input id='data-0eddc107-9c9a-4746-b2d0-e37607d7e9c5' class='xr-var-data-in' type='checkbox'><label for='data-0eddc107-9c9a-4746-b2d0-e37607d7e9c5' title='Show/Hide data repr'><svg class='icon xr-icon-database'><use xlink:href='#icon-database'></use></svg></label><div class='xr-var-attrs'><dl class='xr-attrs'><dt><span>units :</span></dt><dd>degrees_east</dd><dt><span>description :</span></dt><dd>longitude</dd><dt><span>long_name :</span></dt><dd>longitude</dd><dt><span>standard_name :</span></dt><dd>longitude</dd><dt><span>axis :</span></dt><dd>X</dd><dt><span>_ChunkSizes :</span></dt><dd>1386</dd></dl></div><div class='xr-var-data'><pre>array([-124.766667, -124.725   , -124.683333, ...,  -67.141667,  -67.1     ,\n        -67.058333])</pre></div></li></ul></div></li><li class='xr-section-item'><input id='section-d3966915-5d42-42e3-ac19-518e7910dc35' class='xr-section-summary-in' type='checkbox'  checked><label for='section-d3966915-5d42-42e3-ac19-518e7910dc35' class='xr-section-summary' >Data variables: <span>(1)</span></label><div class='xr-section-inline-details'></div><div class='xr-section-details'><ul class='xr-var-list'><li class='xr-var-item'><div class='xr-var-name'><span>air_temperature</span></div><div class='xr-var-dims'>(day, lat, lon)</div><div class='xr-var-dtype'>float32</div><div class='xr-var-preview xr-preview'>dask.array&lt;chunksize=(10, 195, 462), meta=np.ndarray&gt;</div><input id='attrs-ca9f5827-78ab-4db5-9ace-eef5e5029fc8' class='xr-var-attrs-in' type='checkbox' ><label for='attrs-ca9f5827-78ab-4db5-9ace-eef5e5029fc8' title='Show/Hide attributes'><svg class='icon xr-icon-file-text2'><use xlink:href='#icon-file-text2'></use></svg></label><input id='data-36fc3512-693f-4565-b846-ac13b5b7d5ae' class='xr-var-data-in' type='checkbox'><label for='data-36fc3512-693f-4565-b846-ac13b5b7d5ae' title='Show/Hide data repr'><svg class='icon xr-icon-database'><use xlink:href='#icon-database'></use></svg></label><div class='xr-var-attrs'><dl class='xr-attrs'><dt><span>units :</span></dt><dd>K</dd><dt><span>description :</span></dt><dd>Daily Minimum Temperature</dd><dt><span>long_name :</span></dt><dd>tmmn</dd><dt><span>standard_name :</span></dt><dd>tmmn</dd><dt><span>dimensions :</span></dt><dd>lon lat time</dd><dt><span>grid_mapping :</span></dt><dd>crs</dd><dt><span>coordinate_system :</span></dt><dd>WGS84,EPSG:4326</dd><dt><span>coordinates :</span></dt><dd>lon lat time</dd><dt><span>_ChunkSizes :</span></dt><dd>[ 10 195 462]</dd></dl></div><div class='xr-var-data'><table>\n<tr>\n<td>\n<table>\n  <thead>\n    <tr><td> </td><th> Array </th><th> Chunk </th></tr>\n  </thead>\n  <tbody>\n    <tr><th> Bytes </th><td> 97.30 MB </td> <td> 3.60 MB </td></tr>\n    <tr><th> Shape </th><td> (30, 585, 1386) </td> <td> (10, 195, 462) </td></tr>\n    <tr><th> Count </th><td> 550 Tasks </td><td> 27 Chunks </td></tr>\n    <tr><th> Type </th><td> float32 </td><td> numpy.ndarray </td></tr>\n  </tbody>\n</table>\n</td>\n<td>\n<svg width=\"197\" height=\"117\" style=\"stroke:rgb(0,0,0);stroke-width:1\" >\n\n  <!-- Horizontal lines -->\n  <line x1=\"10\" y1=\"0\" x2=\"27\" y2=\"17\" style=\"stroke-width:2\" />\n  <line x1=\"10\" y1=\"16\" x2=\"27\" y2=\"34\" />\n  <line x1=\"10\" y1=\"33\" x2=\"27\" y2=\"51\" />\n  <line x1=\"10\" y1=\"50\" x2=\"27\" y2=\"67\" style=\"stroke-width:2\" />\n\n  <!-- Vertical lines -->\n  <line x1=\"10\" y1=\"0\" x2=\"10\" y2=\"50\" style=\"stroke-width:2\" />\n  <line x1=\"15\" y1=\"5\" x2=\"15\" y2=\"56\" />\n  <line x1=\"21\" y1=\"11\" x2=\"21\" y2=\"62\" />\n  <line x1=\"27\" y1=\"17\" x2=\"27\" y2=\"67\" style=\"stroke-width:2\" />\n\n  <!-- Colored Rectangle -->\n  <polygon points=\"10.0,0.0 27.340416547747616,17.340416547747616 27.340416547747616,67.98976719709827 10.0,50.64935064935065\" style=\"fill:#ECB172A0;stroke-width:0\"/>\n\n  <!-- Horizontal lines -->\n  <line x1=\"10\" y1=\"0\" x2=\"130\" y2=\"0\" style=\"stroke-width:2\" />\n  <line x1=\"15\" y1=\"5\" x2=\"135\" y2=\"5\" />\n  <line x1=\"21\" y1=\"11\" x2=\"141\" y2=\"11\" />\n  <line x1=\"27\" y1=\"17\" x2=\"147\" y2=\"17\" style=\"stroke-width:2\" />\n\n  <!-- Vertical lines -->\n  <line x1=\"10\" y1=\"0\" x2=\"27\" y2=\"17\" style=\"stroke-width:2\" />\n  <line x1=\"50\" y1=\"0\" x2=\"67\" y2=\"17\" />\n  <line x1=\"90\" y1=\"0\" x2=\"107\" y2=\"17\" />\n  <line x1=\"130\" y1=\"0\" x2=\"147\" y2=\"17\" style=\"stroke-width:2\" />\n\n  <!-- Colored Rectangle -->\n  <polygon points=\"10.0,0.0 130.0,0.0 147.34041654774762,17.340416547747616 27.340416547747616,17.340416547747616\" style=\"fill:#ECB172A0;stroke-width:0\"/>\n\n  <!-- Horizontal lines -->\n  <line x1=\"27\" y1=\"17\" x2=\"147\" y2=\"17\" style=\"stroke-width:2\" />\n  <line x1=\"27\" y1=\"34\" x2=\"147\" y2=\"34\" />\n  <line x1=\"27\" y1=\"51\" x2=\"147\" y2=\"51\" />\n  <line x1=\"27\" y1=\"67\" x2=\"147\" y2=\"67\" style=\"stroke-width:2\" />\n\n  <!-- Vertical lines -->\n  <line x1=\"27\" y1=\"17\" x2=\"27\" y2=\"67\" style=\"stroke-width:2\" />\n  <line x1=\"67\" y1=\"17\" x2=\"67\" y2=\"67\" />\n  <line x1=\"107\" y1=\"17\" x2=\"107\" y2=\"67\" />\n  <line x1=\"147\" y1=\"17\" x2=\"147\" y2=\"67\" style=\"stroke-width:2\" />\n\n  <!-- Colored Rectangle -->\n  <polygon points=\"27.340416547747616,17.340416547747616 147.34041654774762,17.340416547747616 147.34041654774762,67.98976719709827 27.340416547747616,67.98976719709827\" style=\"fill:#ECB172A0;stroke-width:0\"/>\n\n  <!-- Text -->\n  <text x=\"87.340417\" y=\"87.989767\" font-size=\"1.0rem\" font-weight=\"100\" text-anchor=\"middle\" >1386</text>\n  <text x=\"167.340417\" y=\"42.665092\" font-size=\"1.0rem\" font-weight=\"100\" text-anchor=\"middle\" transform=\"rotate(-90,167.340417,42.665092)\">585</text>\n  <text x=\"8.670208\" y=\"79.319559\" font-size=\"1.0rem\" font-weight=\"100\" text-anchor=\"middle\" transform=\"rotate(45,8.670208,79.319559)\">30</text>\n</svg>\n</td>\n</tr>\n</table></div></li></ul></div></li><li class='xr-section-item'><input id='section-11b27738-3509-49bc-84b6-91148e62c6ec' class='xr-section-summary-in' type='checkbox'  ><label for='section-11b27738-3509-49bc-84b6-91148e62c6ec' class='xr-section-summary' >Attributes: <span>(22)</span></label><div class='xr-section-inline-details'></div><div class='xr-section-details'><dl class='xr-attrs'><dt><span>geospatial_bounds_crs :</span></dt><dd>EPSG:4326</dd><dt><span>Conventions :</span></dt><dd>CF-1.6</dd><dt><span>geospatial_bounds :</span></dt><dd>POLYGON((-124.7666666333333 49.400000000000000, -124.7666666333333 25.066666666666666, -67.058333300000015 25.066666666666666, -67.058333300000015 49.400000000000000, -124.7666666333333 49.400000000000000))</dd><dt><span>geospatial_lat_min :</span></dt><dd>25.066666666666666</dd><dt><span>geospatial_lat_max :</span></dt><dd>49.40000000000000</dd><dt><span>geospatial_lon_min :</span></dt><dd>-124.7666666333333</dd><dt><span>geospatial_lon_max :</span></dt><dd>-67.058333300000015</dd><dt><span>geospatial_lon_resolution :</span></dt><dd>0.041666666666666</dd><dt><span>geospatial_lat_resolution :</span></dt><dd>0.041666666666666</dd><dt><span>geospatial_lat_units :</span></dt><dd>decimal_degrees north</dd><dt><span>geospatial_lon_units :</span></dt><dd>decimal_degrees east</dd><dt><span>coordinate_system :</span></dt><dd>EPSG:4326</dd><dt><span>author :</span></dt><dd>John Abatzoglou - University of Idaho, jabatzoglou@uidaho.edu</dd><dt><span>date :</span></dt><dd>27 April 2021</dd><dt><span>note1 :</span></dt><dd>The projection information for this file is: GCS WGS 1984.</dd><dt><span>note2 :</span></dt><dd>Citation: Abatzoglou, J.T., 2013, Development of gridded surface meteorological data for ecological applications and modeling, International Journal of Climatology, DOI: 10.1002/joc.3413</dd><dt><span>last_permanent_slice :</span></dt><dd>0</dd><dt><span>last_early_slice :</span></dt><dd>30</dd><dt><span>last_provisional_slice :</span></dt><dd>24</dd><dt><span>note3 :</span></dt><dd>Data in slices after last_permanent_slice (1-based) are considered provisional and subject to change with subsequent updates</dd><dt><span>note4 :</span></dt><dd>Data in slices after last_provisional_slice (1-based) are considered early and subject to change with subsequent updates</dd><dt><span>note5 :</span></dt><dd>Days correspond approximately to calendar days ending at midnight, Mountain Standard Time (7 UTC the next calendar day)</dd></dl></div></li></ul></div></div>"
     },
     "metadata": {},
     "execution_count": 6
    }
   ],
   "source": [
    "ds0.median(dim='time', keep_attrs=True, skipna =True)\n"
   ]
  },
  {
   "cell_type": "code",
   "execution_count": 20,
   "metadata": {},
   "outputs": [
    {
     "data": {
      "text/html": [
       "<div><svg style=\"position: absolute; width: 0; height: 0; overflow: hidden\">\n",
       "<defs>\n",
       "<symbol id=\"icon-database\" viewBox=\"0 0 32 32\">\n",
       "<path d=\"M16 0c-8.837 0-16 2.239-16 5v4c0 2.761 7.163 5 16 5s16-2.239 16-5v-4c0-2.761-7.163-5-16-5z\"></path>\n",
       "<path d=\"M16 17c-8.837 0-16-2.239-16-5v6c0 2.761 7.163 5 16 5s16-2.239 16-5v-6c0 2.761-7.163 5-16 5z\"></path>\n",
       "<path d=\"M16 26c-8.837 0-16-2.239-16-5v6c0 2.761 7.163 5 16 5s16-2.239 16-5v-6c0 2.761-7.163 5-16 5z\"></path>\n",
       "</symbol>\n",
       "<symbol id=\"icon-file-text2\" viewBox=\"0 0 32 32\">\n",
       "<path d=\"M28.681 7.159c-0.694-0.947-1.662-2.053-2.724-3.116s-2.169-2.030-3.116-2.724c-1.612-1.182-2.393-1.319-2.841-1.319h-15.5c-1.378 0-2.5 1.121-2.5 2.5v27c0 1.378 1.122 2.5 2.5 2.5h23c1.378 0 2.5-1.122 2.5-2.5v-19.5c0-0.448-0.137-1.23-1.319-2.841zM24.543 5.457c0.959 0.959 1.712 1.825 2.268 2.543h-4.811v-4.811c0.718 0.556 1.584 1.309 2.543 2.268zM28 29.5c0 0.271-0.229 0.5-0.5 0.5h-23c-0.271 0-0.5-0.229-0.5-0.5v-27c0-0.271 0.229-0.5 0.5-0.5 0 0 15.499-0 15.5 0v7c0 0.552 0.448 1 1 1h7v19.5z\"></path>\n",
       "<path d=\"M23 26h-14c-0.552 0-1-0.448-1-1s0.448-1 1-1h14c0.552 0 1 0.448 1 1s-0.448 1-1 1z\"></path>\n",
       "<path d=\"M23 22h-14c-0.552 0-1-0.448-1-1s0.448-1 1-1h14c0.552 0 1 0.448 1 1s-0.448 1-1 1z\"></path>\n",
       "<path d=\"M23 18h-14c-0.552 0-1-0.448-1-1s0.448-1 1-1h14c0.552 0 1 0.448 1 1s-0.448 1-1 1z\"></path>\n",
       "</symbol>\n",
       "</defs>\n",
       "</svg>\n",
       "<style>/* CSS stylesheet for displaying xarray objects in jupyterlab.\n",
       " *\n",
       " */\n",
       "\n",
       ":root {\n",
       "  --xr-font-color0: var(--jp-content-font-color0, rgba(0, 0, 0, 1));\n",
       "  --xr-font-color2: var(--jp-content-font-color2, rgba(0, 0, 0, 0.54));\n",
       "  --xr-font-color3: var(--jp-content-font-color3, rgba(0, 0, 0, 0.38));\n",
       "  --xr-border-color: var(--jp-border-color2, #e0e0e0);\n",
       "  --xr-disabled-color: var(--jp-layout-color3, #bdbdbd);\n",
       "  --xr-background-color: var(--jp-layout-color0, white);\n",
       "  --xr-background-color-row-even: var(--jp-layout-color1, white);\n",
       "  --xr-background-color-row-odd: var(--jp-layout-color2, #eeeeee);\n",
       "}\n",
       "\n",
       "html[theme=dark],\n",
       "body.vscode-dark {\n",
       "  --xr-font-color0: rgba(255, 255, 255, 1);\n",
       "  --xr-font-color2: rgba(255, 255, 255, 0.54);\n",
       "  --xr-font-color3: rgba(255, 255, 255, 0.38);\n",
       "  --xr-border-color: #1F1F1F;\n",
       "  --xr-disabled-color: #515151;\n",
       "  --xr-background-color: #111111;\n",
       "  --xr-background-color-row-even: #111111;\n",
       "  --xr-background-color-row-odd: #313131;\n",
       "}\n",
       "\n",
       ".xr-wrap {\n",
       "  display: block;\n",
       "  min-width: 300px;\n",
       "  max-width: 700px;\n",
       "}\n",
       "\n",
       ".xr-text-repr-fallback {\n",
       "  /* fallback to plain text repr when CSS is not injected (untrusted notebook) */\n",
       "  display: none;\n",
       "}\n",
       "\n",
       ".xr-header {\n",
       "  padding-top: 6px;\n",
       "  padding-bottom: 6px;\n",
       "  margin-bottom: 4px;\n",
       "  border-bottom: solid 1px var(--xr-border-color);\n",
       "}\n",
       "\n",
       ".xr-header > div,\n",
       ".xr-header > ul {\n",
       "  display: inline;\n",
       "  margin-top: 0;\n",
       "  margin-bottom: 0;\n",
       "}\n",
       "\n",
       ".xr-obj-type,\n",
       ".xr-array-name {\n",
       "  margin-left: 2px;\n",
       "  margin-right: 10px;\n",
       "}\n",
       "\n",
       ".xr-obj-type {\n",
       "  color: var(--xr-font-color2);\n",
       "}\n",
       "\n",
       ".xr-sections {\n",
       "  padding-left: 0 !important;\n",
       "  display: grid;\n",
       "  grid-template-columns: 150px auto auto 1fr 20px 20px;\n",
       "}\n",
       "\n",
       ".xr-section-item {\n",
       "  display: contents;\n",
       "}\n",
       "\n",
       ".xr-section-item input {\n",
       "  display: none;\n",
       "}\n",
       "\n",
       ".xr-section-item input + label {\n",
       "  color: var(--xr-disabled-color);\n",
       "}\n",
       "\n",
       ".xr-section-item input:enabled + label {\n",
       "  cursor: pointer;\n",
       "  color: var(--xr-font-color2);\n",
       "}\n",
       "\n",
       ".xr-section-item input:enabled + label:hover {\n",
       "  color: var(--xr-font-color0);\n",
       "}\n",
       "\n",
       ".xr-section-summary {\n",
       "  grid-column: 1;\n",
       "  color: var(--xr-font-color2);\n",
       "  font-weight: 500;\n",
       "}\n",
       "\n",
       ".xr-section-summary > span {\n",
       "  display: inline-block;\n",
       "  padding-left: 0.5em;\n",
       "}\n",
       "\n",
       ".xr-section-summary-in:disabled + label {\n",
       "  color: var(--xr-font-color2);\n",
       "}\n",
       "\n",
       ".xr-section-summary-in + label:before {\n",
       "  display: inline-block;\n",
       "  content: '►';\n",
       "  font-size: 11px;\n",
       "  width: 15px;\n",
       "  text-align: center;\n",
       "}\n",
       "\n",
       ".xr-section-summary-in:disabled + label:before {\n",
       "  color: var(--xr-disabled-color);\n",
       "}\n",
       "\n",
       ".xr-section-summary-in:checked + label:before {\n",
       "  content: '▼';\n",
       "}\n",
       "\n",
       ".xr-section-summary-in:checked + label > span {\n",
       "  display: none;\n",
       "}\n",
       "\n",
       ".xr-section-summary,\n",
       ".xr-section-inline-details {\n",
       "  padding-top: 4px;\n",
       "  padding-bottom: 4px;\n",
       "}\n",
       "\n",
       ".xr-section-inline-details {\n",
       "  grid-column: 2 / -1;\n",
       "}\n",
       "\n",
       ".xr-section-details {\n",
       "  display: none;\n",
       "  grid-column: 1 / -1;\n",
       "  margin-bottom: 5px;\n",
       "}\n",
       "\n",
       ".xr-section-summary-in:checked ~ .xr-section-details {\n",
       "  display: contents;\n",
       "}\n",
       "\n",
       ".xr-array-wrap {\n",
       "  grid-column: 1 / -1;\n",
       "  display: grid;\n",
       "  grid-template-columns: 20px auto;\n",
       "}\n",
       "\n",
       ".xr-array-wrap > label {\n",
       "  grid-column: 1;\n",
       "  vertical-align: top;\n",
       "}\n",
       "\n",
       ".xr-preview {\n",
       "  color: var(--xr-font-color3);\n",
       "}\n",
       "\n",
       ".xr-array-preview,\n",
       ".xr-array-data {\n",
       "  padding: 0 5px !important;\n",
       "  grid-column: 2;\n",
       "}\n",
       "\n",
       ".xr-array-data,\n",
       ".xr-array-in:checked ~ .xr-array-preview {\n",
       "  display: none;\n",
       "}\n",
       "\n",
       ".xr-array-in:checked ~ .xr-array-data,\n",
       ".xr-array-preview {\n",
       "  display: inline-block;\n",
       "}\n",
       "\n",
       ".xr-dim-list {\n",
       "  display: inline-block !important;\n",
       "  list-style: none;\n",
       "  padding: 0 !important;\n",
       "  margin: 0;\n",
       "}\n",
       "\n",
       ".xr-dim-list li {\n",
       "  display: inline-block;\n",
       "  padding: 0;\n",
       "  margin: 0;\n",
       "}\n",
       "\n",
       ".xr-dim-list:before {\n",
       "  content: '(';\n",
       "}\n",
       "\n",
       ".xr-dim-list:after {\n",
       "  content: ')';\n",
       "}\n",
       "\n",
       ".xr-dim-list li:not(:last-child):after {\n",
       "  content: ',';\n",
       "  padding-right: 5px;\n",
       "}\n",
       "\n",
       ".xr-has-index {\n",
       "  font-weight: bold;\n",
       "}\n",
       "\n",
       ".xr-var-list,\n",
       ".xr-var-item {\n",
       "  display: contents;\n",
       "}\n",
       "\n",
       ".xr-var-item > div,\n",
       ".xr-var-item label,\n",
       ".xr-var-item > .xr-var-name span {\n",
       "  background-color: var(--xr-background-color-row-even);\n",
       "  margin-bottom: 0;\n",
       "}\n",
       "\n",
       ".xr-var-item > .xr-var-name:hover span {\n",
       "  padding-right: 5px;\n",
       "}\n",
       "\n",
       ".xr-var-list > li:nth-child(odd) > div,\n",
       ".xr-var-list > li:nth-child(odd) > label,\n",
       ".xr-var-list > li:nth-child(odd) > .xr-var-name span {\n",
       "  background-color: var(--xr-background-color-row-odd);\n",
       "}\n",
       "\n",
       ".xr-var-name {\n",
       "  grid-column: 1;\n",
       "}\n",
       "\n",
       ".xr-var-dims {\n",
       "  grid-column: 2;\n",
       "}\n",
       "\n",
       ".xr-var-dtype {\n",
       "  grid-column: 3;\n",
       "  text-align: right;\n",
       "  color: var(--xr-font-color2);\n",
       "}\n",
       "\n",
       ".xr-var-preview {\n",
       "  grid-column: 4;\n",
       "}\n",
       "\n",
       ".xr-var-name,\n",
       ".xr-var-dims,\n",
       ".xr-var-dtype,\n",
       ".xr-preview,\n",
       ".xr-attrs dt {\n",
       "  white-space: nowrap;\n",
       "  overflow: hidden;\n",
       "  text-overflow: ellipsis;\n",
       "  padding-right: 10px;\n",
       "}\n",
       "\n",
       ".xr-var-name:hover,\n",
       ".xr-var-dims:hover,\n",
       ".xr-var-dtype:hover,\n",
       ".xr-attrs dt:hover {\n",
       "  overflow: visible;\n",
       "  width: auto;\n",
       "  z-index: 1;\n",
       "}\n",
       "\n",
       ".xr-var-attrs,\n",
       ".xr-var-data {\n",
       "  display: none;\n",
       "  background-color: var(--xr-background-color) !important;\n",
       "  padding-bottom: 5px !important;\n",
       "}\n",
       "\n",
       ".xr-var-attrs-in:checked ~ .xr-var-attrs,\n",
       ".xr-var-data-in:checked ~ .xr-var-data {\n",
       "  display: block;\n",
       "}\n",
       "\n",
       ".xr-var-data > table {\n",
       "  float: right;\n",
       "}\n",
       "\n",
       ".xr-var-name span,\n",
       ".xr-var-data,\n",
       ".xr-attrs {\n",
       "  padding-left: 25px !important;\n",
       "}\n",
       "\n",
       ".xr-attrs,\n",
       ".xr-var-attrs,\n",
       ".xr-var-data {\n",
       "  grid-column: 1 / -1;\n",
       "}\n",
       "\n",
       "dl.xr-attrs {\n",
       "  padding: 0;\n",
       "  margin: 0;\n",
       "  display: grid;\n",
       "  grid-template-columns: 125px auto;\n",
       "}\n",
       "\n",
       ".xr-attrs dt,\n",
       ".xr-attrs dd {\n",
       "  padding: 0;\n",
       "  margin: 0;\n",
       "  float: left;\n",
       "  padding-right: 10px;\n",
       "  width: auto;\n",
       "}\n",
       "\n",
       ".xr-attrs dt {\n",
       "  font-weight: normal;\n",
       "  grid-column: 1;\n",
       "}\n",
       "\n",
       ".xr-attrs dt:hover span {\n",
       "  display: inline-block;\n",
       "  background: var(--xr-background-color);\n",
       "  padding-right: 10px;\n",
       "}\n",
       "\n",
       ".xr-attrs dd {\n",
       "  grid-column: 2;\n",
       "  white-space: pre-wrap;\n",
       "  word-break: break-all;\n",
       "}\n",
       "\n",
       ".xr-icon-database,\n",
       ".xr-icon-file-text2 {\n",
       "  display: inline-block;\n",
       "  vertical-align: middle;\n",
       "  width: 1em;\n",
       "  height: 1.5em !important;\n",
       "  stroke-width: 0;\n",
       "  stroke: currentColor;\n",
       "  fill: currentColor;\n",
       "}\n",
       "</style><pre class='xr-text-repr-fallback'>&lt;xarray.DataArray &#x27;air_temperature&#x27; ()&gt;\n",
       "array(294.9, dtype=float32)</pre><div class='xr-wrap' hidden><div class='xr-header'><div class='xr-obj-type'>xarray.DataArray</div><div class='xr-array-name'>'air_temperature'</div></div><ul class='xr-sections'><li class='xr-section-item'><div class='xr-array-wrap'><input id='section-14b17a3a-0295-40b0-8ace-52f03ddc9127' class='xr-array-in' type='checkbox' checked><label for='section-14b17a3a-0295-40b0-8ace-52f03ddc9127' title='Show/hide data repr'><svg class='icon xr-icon-database'><use xlink:href='#icon-database'></use></svg></label><div class='xr-array-preview xr-preview'><span>294.9</span></div><div class='xr-array-data'><pre>array(294.9, dtype=float32)</pre></div></div></li><li class='xr-section-item'><input id='section-d128e2a9-e59a-4f01-9610-51fd84484ab3' class='xr-section-summary-in' type='checkbox' disabled ><label for='section-d128e2a9-e59a-4f01-9610-51fd84484ab3' class='xr-section-summary'  title='Expand/collapse section'>Coordinates: <span>(0)</span></label><div class='xr-section-inline-details'></div><div class='xr-section-details'><ul class='xr-var-list'></ul></div></li><li class='xr-section-item'><input id='section-fc9bc7a5-27b5-4944-8f49-059ac184fb8c' class='xr-section-summary-in' type='checkbox' disabled ><label for='section-fc9bc7a5-27b5-4944-8f49-059ac184fb8c' class='xr-section-summary'  title='Expand/collapse section'>Attributes: <span>(0)</span></label><div class='xr-section-inline-details'></div><div class='xr-section-details'><dl class='xr-attrs'></dl></div></li></ul></div></div>"
      ],
      "text/plain": [
       "<xarray.DataArray 'air_temperature' ()>\n",
       "array(294.9, dtype=float32)"
      ]
     },
     "execution_count": 20,
     "metadata": {},
     "output_type": "execute_result"
    }
   ],
   "source": [
    "ds0['air_temperature'].max()"
   ]
  },
  {
   "cell_type": "code",
   "execution_count": 3,
   "metadata": {},
   "outputs": [
    {
     "name": "stdout",
     "output_type": "stream",
     "text": [
      "Data variables:\n",
      "    air_temperature  (day, lat, lon) float32 ... Data variables:\n",
      "    air_temperature  (day, lat, lon) float32 ...\n"
     ]
    }
   ],
   "source": [
    "print(ds0.data_vars, ds1.data_vars)\n",
    "\n"
   ]
  },
  {
   "cell_type": "code",
   "execution_count": 4,
   "metadata": {},
   "outputs": [],
   "source": [
    "vars = ['air_temperature', 'air_temperature']"
   ]
  },
  {
   "cell_type": "code",
   "execution_count": 5,
   "metadata": {},
   "outputs": [],
   "source": [
    "gdf = gpd.read_file(r'C:/Users/rmcd/OneDrive - DOI/GitRepos/onhm-fetcher-parser/Data_v1_1/GFv1.1_simple.shp')"
   ]
  },
  {
   "cell_type": "code",
   "execution_count": 6,
   "metadata": {},
   "outputs": [
    {
     "name": "stdout",
     "output_type": "stream",
     "text": [
      "{'grd': list[xarray.core.dataset.Dataset], 'shp': <class 'geopandas.geodataframe.GeoDataFrame'>, 'wght_file': 'csv file', 'time_var': <class 'str'>, 'lat_var': <class 'str'>, 'lon_var': <class 'str'>, 'var': list[str], 'var_output': list[str], 'opath': <class 'str'>, 'fileprefix': <class 'str'>, 'calctype': <class 'int'>}\n",
      "output path exists\n",
      "Numdays: 28 and Start date: 2021-01-16\n"
     ]
    }
   ],
   "source": [
    "\n",
    "g2 = grd2shp.Grd2Shp()\n",
    "print(g2.initialize.__annotations__)\n",
    "# ds2 = 0\n",
    "pin = g2.initialize(grd=[ds0, ds1],\n",
    "    calctype=0,\n",
    "    shp=gdf,\n",
    "    wght_file=r'C:/Users/rmcd/OneDrive - DOI/GitRepos/onhm-fetcher-parser/Data_v1_1/tmp_Gridmet_weights_hru_v1_1e_test.csv',\n",
    "    time_var='day',\n",
    "    lat_var='lat',\n",
    "    lon_var='lon',\n",
    "    var=vars,\n",
    "    var_output=['tmax', 'tmin'],\n",
    "    opath= r'D:/gitNHM/grd2shp/notebook'\n",
    ")"
   ]
  },
  {
   "cell_type": "code",
   "execution_count": 7,
   "metadata": {},
   "outputs": [
    {
     "name": "stdout",
     "output_type": "stream",
     "text": [
      "Processing day: 0\n",
      "    Processing hru 0\n",
      "    Processing hru 10000\n",
      "    Processing hru 20000\n",
      "    Processing hru 30000\n",
      "    Processing hru 40000\n",
      "    Processing hru 50000\n",
      "    Processing hru 60000\n",
      "    Processing hru 70000\n",
      "    Processing hru 80000\n",
      "    Processing hru 90000\n",
      "    Processing hru 100000\n",
      "    Processing hru 110000\n",
      "Processing day: 0\n",
      "    Processing hru 0\n",
      "    Processing hru 10000\n",
      "    Processing hru 20000\n",
      "    Processing hru 30000\n",
      "    Processing hru 40000\n",
      "    Processing hru 50000\n",
      "    Processing hru 60000\n",
      "    Processing hru 70000\n",
      "    Processing hru 80000\n",
      "    Processing hru 90000\n",
      "    Processing hru 100000\n",
      "    Processing hru 110000\n"
     ]
    }
   ],
   "source": [
    "g2.run_weights()"
   ]
  },
  {
   "cell_type": "code",
   "execution_count": 15,
   "metadata": {},
   "outputs": [
    {
     "data": {
      "text/plain": [
       "array([0., 0., 0., ..., 0., 0., 0.])"
      ]
     },
     "execution_count": 15,
     "metadata": {},
     "output_type": "execute_result"
    }
   ],
   "source": [
    "g2.current_mapped_data[0, 1000:5000]"
   ]
  },
  {
   "cell_type": "code",
   "execution_count": 23,
   "metadata": {},
   "outputs": [
    {
     "data": {
      "text/plain": [
       "0.0"
      ]
     },
     "execution_count": 23,
     "metadata": {},
     "output_type": "execute_result"
    }
   ],
   "source": [
    "np.max(g2.current_mapped_data[1])"
   ]
  },
  {
   "cell_type": "code",
   "execution_count": 4,
   "metadata": {},
   "outputs": [
    {
     "name": "stdout",
     "output_type": "stream",
     "text": [
      "<xarray.DataArray 'day' ()>\n",
      "array('2021-01-16T00:00:00.000000000', dtype='datetime64[ns]')\n",
      "Coordinates:\n",
      "    day      datetime64[ns] 2021-01-16\n",
      "Attributes:\n",
      "    description:    days since 1900-01-01\n",
      "    long_name:      time\n",
      "    standard_name:  time\n",
      "    _ChunkSizes:    28\n",
      "2021-01-16\n"
     ]
    }
   ],
   "source": [
    "#need to extract dates as strings for writing netcdf file of mapped values\n",
    "print(ds2.day[0])\n",
    "print(np.datetime_as_string(ds2['day'][0], unit='D'))"
   ]
  },
  {
   "cell_type": "code",
   "execution_count": null,
   "metadata": {},
   "outputs": [],
   "source": []
  },
  {
   "cell_type": "code",
   "execution_count": 5,
   "metadata": {},
   "outputs": [
    {
     "data": {
      "text/plain": [
       "True"
      ]
     },
     "execution_count": 5,
     "metadata": {},
     "output_type": "execute_result"
    }
   ],
   "source": [
    "type(ds2) == xr.Dataset"
   ]
  },
  {
   "cell_type": "code",
   "execution_count": 6,
   "metadata": {},
   "outputs": [],
   "source": [
    "import geopandas as gpd\n",
    "gpf = gpd.read_file(r'C:\\Users\\rmcd\\OneDrive - DOI\\GitRepos\\onhm-fetcher-parser\\Data_v1_1\\GFv1.1_simple.shp')"
   ]
  },
  {
   "cell_type": "code",
   "execution_count": 7,
   "metadata": {},
   "outputs": [
    {
     "data": {
      "text/plain": [
       "True"
      ]
     },
     "execution_count": 7,
     "metadata": {},
     "output_type": "execute_result"
    }
   ],
   "source": [
    "type(gpf) == gpd.GeoDataFrame"
   ]
  },
  {
   "cell_type": "code",
   "execution_count": 8,
   "metadata": {},
   "outputs": [
    {
     "name": "stdout",
     "output_type": "stream",
     "text": [
      "True\n"
     ]
    }
   ],
   "source": [
    "print(isinstance(gpf, gpd.GeoDataFrame))"
   ]
  },
  {
   "cell_type": "code",
   "execution_count": 17,
   "metadata": {},
   "outputs": [],
   "source": [
    "def greeting(name: str) -> str:\n",
    "    return 'Hello ' + name"
   ]
  },
  {
   "cell_type": "code",
   "execution_count": 18,
   "metadata": {},
   "outputs": [
    {
     "data": {
      "text/plain": [
       "'Hello test'"
      ]
     },
     "execution_count": 18,
     "metadata": {},
     "output_type": "execute_result"
    }
   ],
   "source": [
    "greeting('test')"
   ]
  },
  {
   "cell_type": "code",
   "execution_count": null,
   "metadata": {},
   "outputs": [],
   "source": []
  }
 ],
 "metadata": {
  "kernelspec": {
   "name": "python391jvsc74a57bd07ce3472c43b82193bd33bd4c2b51a50b421cea6e6e98cd9835738cf1e7f010e7",
   "display_name": "Python 3.9.1 64-bit ('grd2shp-dev': conda)"
  },
  "language_info": {
   "codemirror_mode": {
    "name": "ipython",
    "version": 3
   },
   "file_extension": ".py",
   "mimetype": "text/x-python",
   "name": "python",
   "nbconvert_exporter": "python",
   "pygments_lexer": "ipython3",
   "version": "3.9.1"
  }
 },
 "nbformat": 4,
 "nbformat_minor": 4
}